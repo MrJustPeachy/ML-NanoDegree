{
 "cells": [
  {
   "cell_type": "markdown",
   "metadata": {
    "collapsed": true
   },
   "source": [
    "# Image Classification\n",
    "In this project, you'll classify images from the [CIFAR-10 dataset](https://www.cs.toronto.edu/~kriz/cifar.html).  The dataset consists of airplanes, dogs, cats, and other objects. You'll preprocess the images, then train a convolutional neural network on all the samples. The images need to be normalized and the labels need to be one-hot encoded.  You'll get to apply what you learned and build a convolutional, max pooling, dropout, and fully connected layers.  At the end, you'll get to see your neural network's predictions on the sample images.\n",
    "## Get the Data\n",
    "Run the following cell to download the [CIFAR-10 dataset for python](https://www.cs.toronto.edu/~kriz/cifar-10-python.tar.gz)."
   ]
  },
  {
   "cell_type": "code",
   "execution_count": 2,
   "metadata": {},
   "outputs": [
    {
     "name": "stderr",
     "output_type": "stream",
     "text": [
      "CIFAR-10 Dataset: 171MB [03:58, 715KB/s]                                                                               \n"
     ]
    },
    {
     "name": "stdout",
     "output_type": "stream",
     "text": [
      "All files found!\n"
     ]
    }
   ],
   "source": [
    "\"\"\"\n",
    "DON'T MODIFY ANYTHING IN THIS CELL THAT IS BELOW THIS LINE\n",
    "\"\"\"\n",
    "from urllib.request import urlretrieve\n",
    "from os.path import isfile, isdir\n",
    "from tqdm import tqdm\n",
    "import problem_unittests as tests\n",
    "import tarfile\n",
    "\n",
    "cifar10_dataset_folder_path = 'cifar-10-batches-py'\n",
    "\n",
    "class DLProgress(tqdm):\n",
    "    last_block = 0\n",
    "\n",
    "    def hook(self, block_num=1, block_size=1, total_size=None):\n",
    "        self.total = total_size\n",
    "        self.update((block_num - self.last_block) * block_size)\n",
    "        self.last_block = block_num\n",
    "\n",
    "if not isfile('cifar-10-python.tar.gz'):\n",
    "    with DLProgress(unit='B', unit_scale=True, miniters=1, desc='CIFAR-10 Dataset') as pbar:\n",
    "        urlretrieve(\n",
    "            'https://www.cs.toronto.edu/~kriz/cifar-10-python.tar.gz',\n",
    "            'cifar-10-python.tar.gz',\n",
    "            pbar.hook)\n",
    "\n",
    "if not isdir(cifar10_dataset_folder_path):\n",
    "    with tarfile.open('cifar-10-python.tar.gz') as tar:\n",
    "        tar.extractall()\n",
    "        tar.close()\n",
    "\n",
    "\n",
    "tests.test_folder_path(cifar10_dataset_folder_path)"
   ]
  },
  {
   "cell_type": "markdown",
   "metadata": {},
   "source": [
    "## Explore the Data\n",
    "The dataset is broken into batches to prevent your machine from running out of memory.  The CIFAR-10 dataset consists of 5 batches, named `data_batch_1`, `data_batch_2`, etc.. Each batch contains the labels and images that are one of the following:\n",
    "* airplane\n",
    "* automobile\n",
    "* bird\n",
    "* cat\n",
    "* deer\n",
    "* dog\n",
    "* frog\n",
    "* horse\n",
    "* ship\n",
    "* truck\n",
    "\n",
    "Understanding a dataset is part of making predictions on the data.  Play around with the code cell below by changing the `batch_id` and `sample_id`. The `batch_id` is the id for a batch (1-5). The `sample_id` is the id for a image and label pair in the batch.\n",
    "\n",
    "Ask yourself \"What are all possible labels?\", \"What is the range of values for the image data?\", \"Are the labels in order or random?\".  Answers to questions like these will help you preprocess the data and end up with better predictions."
   ]
  },
  {
   "cell_type": "code",
   "execution_count": 3,
   "metadata": {},
   "outputs": [
    {
     "name": "stdout",
     "output_type": "stream",
     "text": [
      "\n",
      "Stats of batch 1:\n",
      "Samples: 10000\n",
      "Label Counts: {0: 1005, 1: 974, 2: 1032, 3: 1016, 4: 999, 5: 937, 6: 1030, 7: 1001, 8: 1025, 9: 981}\n",
      "First 20 Labels: [6, 9, 9, 4, 1, 1, 2, 7, 8, 3, 4, 7, 7, 2, 9, 9, 9, 3, 2, 6]\n",
      "\n",
      "Example of Image 5:\n",
      "Image - Min Value: 0 Max Value: 252\n",
      "Image - Shape: (32, 32, 3)\n",
      "Label - Label Id: 1 Name: automobile\n"
     ]
    },
    {
     "data": {
      "image/png": "[encoded data removed]",
      "text/plain": [
       "<matplotlib.figure.Figure at 0x2e19258dd30>"
      ]
     },
     "metadata": {
      "image/png": {
       "height": 250,
       "width": 253
      }
     },
     "output_type": "display_data"
    }
   ],
   "source": [
    "%matplotlib inline\n",
    "%config InlineBackend.figure_format = 'retina'\n",
    "\n",
    "import helper\n",
    "import numpy as np\n",
    "\n",
    "# Explore the dataset\n",
    "batch_id = 1\n",
    "sample_id = 5\n",
    "helper.display_stats(cifar10_dataset_folder_path, batch_id, sample_id)"
   ]
  },
  {
   "cell_type": "markdown",
   "metadata": {},
   "source": [
    "## Implement Preprocess Functions\n",
    "### Normalize\n",
    "In the cell below, implement the `normalize` function to take in image data, `x`, and return it as a normalized Numpy array. The values should be in the range of 0 to 1, inclusive.  The return object should be the same shape as `x`."
   ]
  },
  {
   "cell_type": "code",
   "execution_count": 4,
   "metadata": {},
   "outputs": [
    {
     "name": "stdout",
     "output_type": "stream",
     "text": [
      "Tests Passed\n"
     ]
    }
   ],
   "source": [
    "def normalize(x):\n",
    "    \"\"\"\n",
    "    Normalize a list of sample image data in the range of 0 to 1\n",
    "    : x: List of image data.  The image shape is (32, 32, 3)\n",
    "    : return: Numpy array of normalize data\n",
    "    \"\"\"\n",
    "    max_x = np.max(x)\n",
    "    min_x = np.min(x)\n",
    "    normalized_list = []\n",
    "    for i in x:\n",
    "        normalized = (i - min_x) / (max_x - min_x)\n",
    "        normalized_list.append(normalized)\n",
    "    return np.array(normalized_list)\n",
    "\n",
    "\n",
    "\"\"\"\n",
    "DON'T MODIFY ANYTHING IN THIS CELL THAT IS BELOW THIS LINE\n",
    "\"\"\"\n",
    "tests.test_normalize(normalize)"
   ]
  },
  {
   "cell_type": "markdown",
   "metadata": {},
   "source": [
    "### One-hot encode\n",
    "Just like the previous code cell, you'll be implementing a function for preprocessing.  This time, you'll implement the `one_hot_encode` function. The input, `x`, are a list of labels.  Implement the function to return the list of labels as One-Hot encoded Numpy array.  The possible values for labels are 0 to 9. The one-hot encoding function should return the same encoding for each value between each call to `one_hot_encode`.  Make sure to save the map of encodings outside the function.\n",
    "\n",
    "**Hint:**\n",
    "\n",
    "Look into LabelBinarizer in the preprocessing module of sklearn."
   ]
  },
  {
   "cell_type": "code",
   "execution_count": 5,
   "metadata": {},
   "outputs": [
    {
     "name": "stdout",
     "output_type": "stream",
     "text": [
      "Tests Passed\n"
     ]
    }
   ],
   "source": [
    "from sklearn.preprocessing import LabelBinarizer as lb\n",
    "\n",
    "def one_hot_encode(x):\n",
    "    \"\"\"\n",
    "    One hot encode a list of sample labels. Return a one-hot encoded vector for each label.\n",
    "    : x: List of sample Labels\n",
    "    : return: Numpy array of one-hot encoded labels\n",
    "    \"\"\"\n",
    "    \n",
    "    labels = lb().fit(range(0, 10))\n",
    "    \n",
    "    return np.array(labels.transform(x))\n",
    "\n",
    "\n",
    "\"\"\"\n",
    "DON'T MODIFY ANYTHING IN THIS CELL THAT IS BELOW THIS LINE\n",
    "\"\"\"\n",
    "tests.test_one_hot_encode(one_hot_encode)"
   ]
  },
  {
   "cell_type": "markdown",
   "metadata": {},
   "source": [
    "### Randomize Data\n",
    "As you saw from exploring the data above, the order of the samples are randomized.  It doesn't hurt to randomize it again, but you don't need to for this dataset."
   ]
  },
  {
   "cell_type": "markdown",
   "metadata": {},
   "source": [
    "## Preprocess all the data and save it\n",
    "Running the code cell below will preprocess all the CIFAR-10 data and save it to file. The code below also uses 10% of the training data for validation."
   ]
  },
  {
   "cell_type": "code",
   "execution_count": 6,
   "metadata": {
    "collapsed": true
   },
   "outputs": [],
   "source": [
    "\"\"\"\n",
    "DON'T MODIFY ANYTHING IN THIS CELL\n",
    "\"\"\"\n",
    "# Preprocess Training, Validation, and Testing Data\n",
    "helper.preprocess_and_save_data(cifar10_dataset_folder_path, normalize, one_hot_encode)"
   ]
  },
  {
   "cell_type": "markdown",
   "metadata": {},
   "source": [
    "# Check Point\n",
    "This is your first checkpoint.  If you ever decide to come back to this notebook or have to restart the notebook, you can start from here.  The preprocessed data has been saved to disk."
   ]
  },
  {
   "cell_type": "code",
   "execution_count": 7,
   "metadata": {
    "collapsed": true
   },
   "outputs": [],
   "source": [
    "\"\"\"\n",
    "DON'T MODIFY ANYTHING IN THIS CELL\n",
    "\"\"\"\n",
    "import pickle\n",
    "import problem_unittests as tests\n",
    "import helper\n",
    "\n",
    "# Load the Preprocessed Validation data\n",
    "valid_features, valid_labels = pickle.load(open('preprocess_validation.p', mode='rb'))"
   ]
  },
  {
   "cell_type": "markdown",
   "metadata": {},
   "source": [
    "## Build the network\n",
    "For the neural network, you'll build each layer into a function.  Most of the code you've seen has been outside of functions. To test your code more thoroughly, we require that you put each layer in a function.  This allows us to give you better feedback and test for simple mistakes using our unittests before you submit your project.\n",
    "\n",
    ">**Note:** If you're finding it hard to dedicate enough time for this course each week, we've provided a small shortcut to this part of the project. In the next couple of problems, you'll have the option to use classes from the [TensorFlow Layers](https://www.tensorflow.org/api_docs/python/tf/layers) or [TensorFlow Layers (contrib)](https://www.tensorflow.org/api_guides/python/contrib.layers) packages to build each layer, except the layers you build in the \"Convolutional and Max Pooling Layer\" section.  TF Layers is similar to Keras's and TFLearn's abstraction to layers, so it's easy to pickup.\n",
    "\n",
    ">However, if you would like to get the most out of this course, try to solve all the problems _without_ using anything from the TF Layers packages. You **can** still use classes from other packages that happen to have the same name as ones you find in TF Layers! For example, instead of using the TF Layers version of the `conv2d` class, [tf.layers.conv2d](https://www.tensorflow.org/api_docs/python/tf/layers/conv2d), you would want to use the TF Neural Network version of `conv2d`, [tf.nn.conv2d](https://www.tensorflow.org/api_docs/python/tf/nn/conv2d). \n",
    "\n",
    "Let's begin!\n",
    "\n",
    "### Input\n",
    "The neural network needs to read the image data, one-hot encoded labels, and dropout keep probability. Implement the following functions\n",
    "* Implement `neural_net_image_input`\n",
    " * Return a [TF Placeholder](https://www.tensorflow.org/api_docs/python/tf/placeholder)\n",
    " * Set the shape using `image_shape` with batch size set to `None`.\n",
    " * Name the TensorFlow placeholder \"x\" using the TensorFlow `name` parameter in the [TF Placeholder](https://www.tensorflow.org/api_docs/python/tf/placeholder).\n",
    "* Implement `neural_net_label_input`\n",
    " * Return a [TF Placeholder](https://www.tensorflow.org/api_docs/python/tf/placeholder)\n",
    " * Set the shape using `n_classes` with batch size set to `None`.\n",
    " * Name the TensorFlow placeholder \"y\" using the TensorFlow `name` parameter in the [TF Placeholder](https://www.tensorflow.org/api_docs/python/tf/placeholder).\n",
    "* Implement `neural_net_keep_prob_input`\n",
    " * Return a [TF Placeholder](https://www.tensorflow.org/api_docs/python/tf/placeholder) for dropout keep probability.\n",
    " * Name the TensorFlow placeholder \"keep_prob\" using the TensorFlow `name` parameter in the [TF Placeholder](https://www.tensorflow.org/api_docs/python/tf/placeholder).\n",
    "\n",
    "These names will be used at the end of the project to load your saved model.\n",
    "\n",
    "Note: `None` for shapes in TensorFlow allow for a dynamic size."
   ]
  },
  {
   "cell_type": "code",
   "execution_count": 8,
   "metadata": {},
   "outputs": [
    {
     "name": "stdout",
     "output_type": "stream",
     "text": [
      "Image Input Tests Passed.\n",
      "Label Input Tests Passed.\n",
      "Keep Prob Tests Passed.\n"
     ]
    }
   ],
   "source": [
    "import tensorflow as tf\n",
    "\n",
    "def neural_net_image_input(image_shape):\n",
    "    \"\"\"\n",
    "    Return a Tensor for a batch of image input\n",
    "    : image_shape: Shape of the images\n",
    "    : return: Tensor for image input.\n",
    "    \"\"\"\n",
    "    return tf.placeholder(tf.float32, shape=(None, image_shape[0], image_shape[1], image_shape[2]), name='x')\n",
    "\n",
    "\n",
    "def neural_net_label_input(n_classes):\n",
    "    \"\"\"\n",
    "    Return a Tensor for a batch of label input\n",
    "    : n_classes: Number of classes\n",
    "    : return: Tensor for label input.\n",
    "    \"\"\"\n",
    "    \n",
    "    return tf.placeholder(tf.int32, shape=(None, n_classes), name='y')\n",
    "\n",
    "\n",
    "def neural_net_keep_prob_input():\n",
    "    \"\"\"\n",
    "    Return a Tensor for keep probability\n",
    "    : return: Tensor for keep probability.\n",
    "    \"\"\"\n",
    "    \n",
    "    return tf.placeholder(tf.float32, name='keep_prob')\n",
    "\n",
    "\n",
    "\"\"\"\n",
    "DON'T MODIFY ANYTHING IN THIS CELL THAT IS BELOW THIS LINE\n",
    "\"\"\"\n",
    "tf.reset_default_graph()\n",
    "tests.test_nn_image_inputs(neural_net_image_input)\n",
    "tests.test_nn_label_inputs(neural_net_label_input)\n",
    "tests.test_nn_keep_prob_inputs(neural_net_keep_prob_input)"
   ]
  },
  {
   "cell_type": "markdown",
   "metadata": {},
   "source": [
    "### Convolution and Max Pooling Layer\n",
    "Convolution layers have a lot of success with images. For this code cell, you should implement the function `conv2d_maxpool` to apply convolution then max pooling:\n",
    "* Create the weight and bias using `conv_ksize`, `conv_num_outputs` and the shape of `x_tensor`.\n",
    "* Apply a convolution to `x_tensor` using weight and `conv_strides`.\n",
    " * We recommend you use same padding, but you're welcome to use any padding.\n",
    "* Add bias\n",
    "* Add a nonlinear activation to the convolution.\n",
    "* Apply Max Pooling using `pool_ksize` and `pool_strides`.\n",
    " * We recommend you use same padding, but you're welcome to use any padding.\n",
    "\n",
    "**Note:** You **can't** use [TensorFlow Layers](https://www.tensorflow.org/api_docs/python/tf/layers) or [TensorFlow Layers (contrib)](https://www.tensorflow.org/api_guides/python/contrib.layers) for **this** layer, but you can still use TensorFlow's [Neural Network](https://www.tensorflow.org/api_docs/python/tf/nn) package. You may still use the shortcut option for all the **other** layers.\n",
    "\n",
    "** Hint: **\n",
    "\n",
    "When unpacking values as an argument in Python, look into the [unpacking](https://docs.python.org/3/tutorial/controlflow.html#unpacking-argument-lists) operator. "
   ]
  },
  {
   "cell_type": "code",
   "execution_count": 9,
   "metadata": {},
   "outputs": [
    {
     "name": "stdout",
     "output_type": "stream",
     "text": [
      "Tests Passed\n"
     ]
    }
   ],
   "source": [
    "def conv2d_maxpool(x_tensor, conv_num_outputs, conv_ksize, conv_strides, pool_ksize, pool_strides):\n",
    "    \"\"\"\n",
    "    Apply convolution then max pooling to x_tensor\n",
    "    :param x_tensor: TensorFlow Tensor\n",
    "    :param conv_num_outputs: Number of outputs for the convolutional layer\n",
    "    :param conv_ksize: kernal size 2-D Tuple for the convolutional layer\n",
    "    :param conv_strides: Stride 2-D Tuple for convolution\n",
    "    :param pool_ksize: kernal size 2-D Tuple for pool\n",
    "    :param pool_strides: Stride 2-D Tuple for pool\n",
    "    : return: A tensor that represents convolution and max pooling of x_tensor\n",
    "    \"\"\"\n",
    "    weights = tf.Variable(tf.random_normal([conv_ksize[0], conv_ksize[1], x_tensor.get_shape().as_list()[-1], conv_num_outputs],\n",
    "                                          stddev=0.1))\n",
    "    bias = tf.Variable(tf.zeros(conv_num_outputs))\n",
    "    convolution = tf.nn.conv2d(x_tensor, weights, strides=[1, *conv_strides, 1], padding='SAME')\n",
    "    conv_with_bias = tf.nn.bias_add(convolution, bias)\n",
    "    nonlinear_activation = tf.nn.relu(conv_with_bias)\n",
    "    final_layer = tf.nn.max_pool(nonlinear_activation, [1, *pool_ksize, 1], [1, *pool_strides, 1], padding='SAME')\n",
    "    \n",
    "    return final_layer\n",
    "\n",
    "\n",
    "\"\"\"\n",
    "DON'T MODIFY ANYTHING IN THIS CELL THAT IS BELOW THIS LINE\n",
    "\"\"\"\n",
    "tests.test_con_pool(conv2d_maxpool)"
   ]
  },
  {
   "cell_type": "markdown",
   "metadata": {},
   "source": [
    "### Flatten Layer\n",
    "Implement the `flatten` function to change the dimension of `x_tensor` from a 4-D tensor to a 2-D tensor.  The output should be the shape (*Batch Size*, *Flattened Image Size*). Shortcut option: you can use classes from the [TensorFlow Layers](https://www.tensorflow.org/api_docs/python/tf/layers) or [TensorFlow Layers (contrib)](https://www.tensorflow.org/api_guides/python/contrib.layers) packages for this layer. For more of a challenge, only use other TensorFlow packages."
   ]
  },
  {
   "cell_type": "code",
   "execution_count": 10,
   "metadata": {},
   "outputs": [
    {
     "name": "stdout",
     "output_type": "stream",
     "text": [
      "Tests Passed\n"
     ]
    }
   ],
   "source": [
    "def flatten(x_tensor):\n",
    "    \"\"\"\n",
    "    Flatten x_tensor to (Batch Size, Flattened Image Size)\n",
    "    : x_tensor: A tensor of size (Batch Size, ...), where ... are the image dimensions.\n",
    "    : return: A tensor of size (Batch Size, Flattened Image Size).\n",
    "    \"\"\"\n",
    "    flatten = tf.contrib.layers.flatten(x_tensor)\n",
    "    return flatten\n",
    "\n",
    "\n",
    "\"\"\"\n",
    "DON'T MODIFY ANYTHING IN THIS CELL THAT IS BELOW THIS LINE\n",
    "\"\"\"\n",
    "tests.test_flatten(flatten)"
   ]
  },
  {
   "cell_type": "markdown",
   "metadata": {},
   "source": [
    "### Fully-Connected Layer\n",
    "Implement the `fully_conn` function to apply a fully connected layer to `x_tensor` with the shape (*Batch Size*, *num_outputs*). Shortcut option: you can use classes from the [TensorFlow Layers](https://www.tensorflow.org/api_docs/python/tf/layers) or [TensorFlow Layers (contrib)](https://www.tensorflow.org/api_guides/python/contrib.layers) packages for this layer. For more of a challenge, only use other TensorFlow packages."
   ]
  },
  {
   "cell_type": "code",
   "execution_count": 11,
   "metadata": {},
   "outputs": [
    {
     "name": "stdout",
     "output_type": "stream",
     "text": [
      "Tests Passed\n"
     ]
    }
   ],
   "source": [
    "def fully_conn(x_tensor, num_outputs):\n",
    "    \"\"\"\n",
    "    Apply a fully connected layer to x_tensor using weight and bias\n",
    "    : x_tensor: A 2-D tensor where the first dimension is batch size.\n",
    "    : num_outputs: The number of output that the new tensor should be.\n",
    "    : return: A 2-D tensor where the second dimension is num_outputs.\n",
    "    \"\"\"\n",
    "    fully_con = tf.contrib.layers.fully_connected(x_tensor, num_outputs=num_outputs, activation_fn=tf.nn.relu)\n",
    "    return fully_con\n",
    "\n",
    "\n",
    "\"\"\"\n",
    "DON'T MODIFY ANYTHING IN THIS CELL THAT IS BELOW THIS LINE\n",
    "\"\"\"\n",
    "tests.test_fully_conn(fully_conn)"
   ]
  },
  {
   "cell_type": "markdown",
   "metadata": {},
   "source": [
    "### Output Layer\n",
    "Implement the `output` function to apply a fully connected layer to `x_tensor` with the shape (*Batch Size*, *num_outputs*). Shortcut option: you can use classes from the [TensorFlow Layers](https://www.tensorflow.org/api_docs/python/tf/layers) or [TensorFlow Layers (contrib)](https://www.tensorflow.org/api_guides/python/contrib.layers) packages for this layer. For more of a challenge, only use other TensorFlow packages.\n",
    "\n",
    "**Note:** Activation, softmax, or cross entropy should **not** be applied to this."
   ]
  },
  {
   "cell_type": "code",
   "execution_count": 12,
   "metadata": {},
   "outputs": [
    {
     "name": "stdout",
     "output_type": "stream",
     "text": [
      "Tests Passed\n"
     ]
    }
   ],
   "source": [
    "def output(x_tensor, num_outputs):\n",
    "    \"\"\"\n",
    "    Apply a output layer to x_tensor using weight and bias\n",
    "    : x_tensor: A 2-D tensor where the first dimension is batch size.\n",
    "    : num_outputs: The number of output that the new tensor should be.\n",
    "    : return: A 2-D tensor where the second dimension is num_outputs.\n",
    "    \"\"\"\n",
    "    \n",
    "    return tf.contrib.layers.fully_connected(x_tensor, num_outputs=num_outputs, activation_fn=None)\n",
    "\n",
    "\n",
    "\"\"\"\n",
    "DON'T MODIFY ANYTHING IN THIS CELL THAT IS BELOW THIS LINE\n",
    "\"\"\"\n",
    "tests.test_output(output)"
   ]
  },
  {
   "cell_type": "markdown",
   "metadata": {},
   "source": [
    "### Create Convolutional Model\n",
    "Implement the function `conv_net` to create a convolutional neural network model. The function takes in a batch of images, `x`, and outputs logits.  Use the layers you created above to create this model:\n",
    "\n",
    "* Apply 1, 2, or 3 Convolution and Max Pool layers\n",
    "* Apply a Flatten Layer\n",
    "* Apply 1, 2, or 3 Fully Connected Layers\n",
    "* Apply an Output Layer\n",
    "* Return the output\n",
    "* Apply [TensorFlow's Dropout](https://www.tensorflow.org/api_docs/python/tf/nn/dropout) to one or more layers in the model using `keep_prob`. "
   ]
  },
  {
   "cell_type": "code",
   "execution_count": 13,
   "metadata": {},
   "outputs": [
    {
     "name": "stdout",
     "output_type": "stream",
     "text": [
      "Neural Network Built!\n"
     ]
    }
   ],
   "source": [
    "def conv_net(x, keep_prob):\n",
    "    \"\"\"\n",
    "    Create a convolutional neural network model\n",
    "    : x: Placeholder tensor that holds image data.\n",
    "    : keep_prob: Placeholder tensor that hold dropout keep probability.\n",
    "    : return: Tensor that represents logits\n",
    "    \"\"\"\n",
    "    # TODO: Apply 1, 2, or 3 Convolution and Max Pool layers\n",
    "    #    Play around with different number of outputs, kernel size and stride\n",
    "    # Function Definition from Above:\n",
    "    #    conv2d_maxpool(x_tensor, conv_num_outputs, conv_ksize, conv_strides, pool_ksize, pool_strides)\n",
    "    conv_nn = conv2d_maxpool(x, 16, (2, 2), (1, 1), (2, 2), (2, 2))\n",
    "    conv_nn = conv2d_maxpool(conv_nn, 32, (2, 2), (1, 1), (2, 2), (2, 2))\n",
    "    \n",
    "    # TODO: Apply a Flatten Layer\n",
    "    # Function Definition from Above:\n",
    "    #   flatten(x_tensor)\n",
    "    flat_nn = flatten(conv_nn)\n",
    "\n",
    "    # TODO: Apply 1, 2, or 3 Fully Connected Layers\n",
    "    #    Play around with different number of outputs\n",
    "    # Function Definition from Above:\n",
    "    #   fully_conn(x_tensor, num_outputs)\n",
    "    full = fully_conn(flat_nn, 2048)\n",
    "    full = tf.nn.dropout(full, keep_prob=keep_prob)\n",
    "    \n",
    "    # TODO: Apply an Output Layer\n",
    "    #    Set this to the number of classes\n",
    "    # Function Definition from Above:\n",
    "    #   output(x_tensor, num_outputs)\n",
    "    final = output(full, 10)\n",
    "    \n",
    "    # TODO: return output\n",
    "    return final\n",
    "\n",
    "\n",
    "\"\"\"\n",
    "DON'T MODIFY ANYTHING IN THIS CELL THAT IS BELOW THIS LINE\n",
    "\"\"\"\n",
    "\n",
    "##############################\n",
    "## Build the Neural Network ##\n",
    "##############################\n",
    "\n",
    "# Remove previous weights, bias, inputs, etc..\n",
    "tf.reset_default_graph()\n",
    "\n",
    "# Inputs\n",
    "x = neural_net_image_input((32, 32, 3))\n",
    "y = neural_net_label_input(10)\n",
    "keep_prob = neural_net_keep_prob_input()\n",
    "\n",
    "# Model\n",
    "logits = conv_net(x, keep_prob)\n",
    "\n",
    "# Name logits Tensor, so that is can be loaded from disk after training\n",
    "logits = tf.identity(logits, name='logits')\n",
    "\n",
    "# Loss and Optimizer\n",
    "cost = tf.reduce_mean(tf.nn.softmax_cross_entropy_with_logits(logits=logits, labels=y))\n",
    "optimizer = tf.train.AdamOptimizer().minimize(cost)\n",
    "\n",
    "# Accuracy\n",
    "correct_pred = tf.equal(tf.argmax(logits, 1), tf.argmax(y, 1))\n",
    "accuracy = tf.reduce_mean(tf.cast(correct_pred, tf.float32), name='accuracy')\n",
    "\n",
    "tests.test_conv_net(conv_net)"
   ]
  },
  {
   "cell_type": "markdown",
   "metadata": {},
   "source": [
    "## Train the Neural Network\n",
    "### Single Optimization\n",
    "Implement the function `train_neural_network` to do a single optimization.  The optimization should use `optimizer` to optimize in `session` with a `feed_dict` of the following:\n",
    "* `x` for image input\n",
    "* `y` for labels\n",
    "* `keep_prob` for keep probability for dropout\n",
    "\n",
    "This function will be called for each batch, so `tf.global_variables_initializer()` has already been called.\n",
    "\n",
    "Note: Nothing needs to be returned. This function is only optimizing the neural network."
   ]
  },
  {
   "cell_type": "code",
   "execution_count": 14,
   "metadata": {},
   "outputs": [
    {
     "name": "stdout",
     "output_type": "stream",
     "text": [
      "Tests Passed\n"
     ]
    }
   ],
   "source": [
    "def train_neural_network(session, optimizer, keep_probability, feature_batch, label_batch):\n",
    "    \"\"\"\n",
    "    Optimize the session on a batch of images and labels\n",
    "    : session: Current TensorFlow session\n",
    "    : optimizer: TensorFlow optimizer function\n",
    "    : keep_probability: keep probability\n",
    "    : feature_batch: Batch of Numpy image data\n",
    "    : label_batch: Batch of Numpy label data\n",
    "    \"\"\"\n",
    "    session.run(optimizer, feed_dict={keep_prob: keep_probability, x: feature_batch, y: label_batch})\n",
    "    pass\n",
    "\n",
    "\n",
    "\"\"\"\n",
    "DON'T MODIFY ANYTHING IN THIS CELL THAT IS BELOW THIS LINE\n",
    "\"\"\"\n",
    "tests.test_train_nn(train_neural_network)"
   ]
  },
  {
   "cell_type": "markdown",
   "metadata": {},
   "source": [
    "### Show Stats\n",
    "Implement the function `print_stats` to print loss and validation accuracy.  Use the global variables `valid_features` and `valid_labels` to calculate validation accuracy.  Use a keep probability of `1.0` to calculate the loss and validation accuracy."
   ]
  },
  {
   "cell_type": "code",
   "execution_count": 15,
   "metadata": {
    "collapsed": true
   },
   "outputs": [],
   "source": [
    "def print_stats(session, feature_batch, label_batch, cost, accuracy):\n",
    "    \"\"\"\n",
    "    Print information about loss and validation accuracy\n",
    "    : session: Current TensorFlow session\n",
    "    : feature_batch: Batch of Numpy image data\n",
    "    : label_batch: Batch of Numpy label data\n",
    "    : cost: TensorFlow cost function\n",
    "    : accuracy: TensorFlow accuracy function\n",
    "    \"\"\"\n",
    "    loss = session.run(cost, feed_dict={x: valid_features, y: valid_labels, keep_prob: 1.0})\n",
    "    accuracy = session.run(accuracy, feed_dict={x: valid_features, y: valid_labels, keep_prob: 1.0})\n",
    "    \n",
    "    print(\"The cost is \" + str(loss) + \" and the accuracy is \" + str(round((accuracy * 100), 3)) + \"%.\")\n",
    "    pass"
   ]
  },
  {
   "cell_type": "markdown",
   "metadata": {},
   "source": [
    "### Hyperparameters\n",
    "Tune the following parameters:\n",
    "* Set `epochs` to the number of iterations until the network stops learning or start overfitting\n",
    "* Set `batch_size` to the highest number that your machine has memory for.  Most people set them to common sizes of memory:\n",
    " * 64\n",
    " * 128\n",
    " * 256\n",
    " * ...\n",
    "* Set `keep_probability` to the probability of keeping a node using dropout"
   ]
  },
  {
   "cell_type": "code",
   "execution_count": 16,
   "metadata": {
    "collapsed": true
   },
   "outputs": [],
   "source": [
    "# TODO: Tune Parameters\n",
    "epochs = 50\n",
    "batch_size = 1024\n",
    "keep_probability = 0.9"
   ]
  },
  {
   "cell_type": "markdown",
   "metadata": {},
   "source": [
    "### Train on a Single CIFAR-10 Batch\n",
    "Instead of training the neural network on all the CIFAR-10 batches of data, let's use a single batch. This should save time while you iterate on the model to get a better accuracy.  Once the final validation accuracy is 50% or greater, run the model on all the data in the next section."
   ]
  },
  {
   "cell_type": "code",
   "execution_count": 17,
   "metadata": {},
   "outputs": [
    {
     "name": "stdout",
     "output_type": "stream",
     "text": [
      "Checking the Training on a Single Batch...\n",
      "Epoch  1, CIFAR-10 Batch 1:  The cost is 2.20432 and the accuracy is 17.84%.\n",
      "Epoch  2, CIFAR-10 Batch 1:  The cost is 2.0574 and the accuracy is 28.9%.\n",
      "Epoch  3, CIFAR-10 Batch 1:  The cost is 1.87096 and the accuracy is 35.66%.\n",
      "Epoch  4, CIFAR-10 Batch 1:  The cost is 1.73137 and the accuracy is 39.16%.\n",
      "Epoch  5, CIFAR-10 Batch 1:  The cost is 1.6231 and the accuracy is 43.38%.\n",
      "Epoch  6, CIFAR-10 Batch 1:  The cost is 1.55953 and the accuracy is 45.9%.\n",
      "Epoch  7, CIFAR-10 Batch 1:  The cost is 1.51363 and the accuracy is 47.42%.\n",
      "Epoch  8, CIFAR-10 Batch 1:  The cost is 1.47702 and the accuracy is 48.34%.\n",
      "Epoch  9, CIFAR-10 Batch 1:  The cost is 1.45172 and the accuracy is 49.5%.\n",
      "Epoch 10, CIFAR-10 Batch 1:  The cost is 1.42718 and the accuracy is 50.16%.\n",
      "Epoch 11, CIFAR-10 Batch 1:  The cost is 1.39992 and the accuracy is 50.92%.\n",
      "Epoch 12, CIFAR-10 Batch 1:  The cost is 1.41379 and the accuracy is 50.22%.\n",
      "Epoch 13, CIFAR-10 Batch 1:  The cost is 1.4257 and the accuracy is 49.78%.\n",
      "Epoch 14, CIFAR-10 Batch 1:  The cost is 1.37794 and the accuracy is 51.74%.\n",
      "Epoch 15, CIFAR-10 Batch 1:  The cost is 1.34277 and the accuracy is 52.72%.\n",
      "Epoch 16, CIFAR-10 Batch 1:  The cost is 1.32723 and the accuracy is 53.24%.\n",
      "Epoch 17, CIFAR-10 Batch 1:  The cost is 1.3242 and the accuracy is 53.7%.\n",
      "Epoch 18, CIFAR-10 Batch 1:  The cost is 1.32081 and the accuracy is 53.88%.\n",
      "Epoch 19, CIFAR-10 Batch 1:  The cost is 1.29435 and the accuracy is 54.84%.\n",
      "Epoch 20, CIFAR-10 Batch 1:  The cost is 1.2827 and the accuracy is 55.14%.\n",
      "Epoch 21, CIFAR-10 Batch 1:  The cost is 1.30266 and the accuracy is 54.1%.\n",
      "Epoch 22, CIFAR-10 Batch 1:  The cost is 1.286 and the accuracy is 55.1%.\n",
      "Epoch 23, CIFAR-10 Batch 1:  The cost is 1.27431 and the accuracy is 55.66%.\n",
      "Epoch 24, CIFAR-10 Batch 1:  The cost is 1.27614 and the accuracy is 55.96%.\n",
      "Epoch 25, CIFAR-10 Batch 1:  The cost is 1.28243 and the accuracy is 56.1%.\n",
      "Epoch 26, CIFAR-10 Batch 1:  The cost is 1.28021 and the accuracy is 56.34%.\n",
      "Epoch 27, CIFAR-10 Batch 1:  The cost is 1.27535 and the accuracy is 56.54%.\n",
      "Epoch 28, CIFAR-10 Batch 1:  The cost is 1.27426 and the accuracy is 56.6%.\n",
      "Epoch 29, CIFAR-10 Batch 1:  The cost is 1.26264 and the accuracy is 57.3%.\n",
      "Epoch 30, CIFAR-10 Batch 1:  The cost is 1.25612 and the accuracy is 57.18%.\n",
      "Epoch 31, CIFAR-10 Batch 1:  The cost is 1.2591 and the accuracy is 57.16%.\n",
      "Epoch 32, CIFAR-10 Batch 1:  The cost is 1.28637 and the accuracy is 56.74%.\n",
      "Epoch 33, CIFAR-10 Batch 1:  The cost is 1.29585 and the accuracy is 56.3%.\n",
      "Epoch 34, CIFAR-10 Batch 1:  The cost is 1.26756 and the accuracy is 57.04%.\n",
      "Epoch 35, CIFAR-10 Batch 1:  The cost is 1.32028 and the accuracy is 55.36%.\n",
      "Epoch 36, CIFAR-10 Batch 1:  The cost is 1.28864 and the accuracy is 57.16%.\n",
      "Epoch 37, CIFAR-10 Batch 1:  The cost is 1.34165 and the accuracy is 55.74%.\n",
      "Epoch 38, CIFAR-10 Batch 1:  The cost is 1.3574 and the accuracy is 54.52%.\n",
      "Epoch 39, CIFAR-10 Batch 1:  The cost is 1.30103 and the accuracy is 56.56%.\n",
      "Epoch 40, CIFAR-10 Batch 1:  The cost is 1.29614 and the accuracy is 56.74%.\n",
      "Epoch 41, CIFAR-10 Batch 1:  The cost is 1.29501 and the accuracy is 56.92%.\n",
      "Epoch 42, CIFAR-10 Batch 1:  The cost is 1.2964 and the accuracy is 57.02%.\n",
      "Epoch 43, CIFAR-10 Batch 1:  The cost is 1.29625 and the accuracy is 57.62%.\n",
      "Epoch 44, CIFAR-10 Batch 1:  The cost is 1.30556 and the accuracy is 57.54%.\n",
      "Epoch 45, CIFAR-10 Batch 1:  The cost is 1.3119 and the accuracy is 57.44%.\n",
      "Epoch 46, CIFAR-10 Batch 1:  The cost is 1.32236 and the accuracy is 57.56%.\n",
      "Epoch 47, CIFAR-10 Batch 1:  The cost is 1.34863 and the accuracy is 57.22%.\n",
      "Epoch 48, CIFAR-10 Batch 1:  The cost is 1.36878 and the accuracy is 57.08%.\n",
      "Epoch 49, CIFAR-10 Batch 1:  The cost is 1.37864 and the accuracy is 56.76%.\n",
      "Epoch 50, CIFAR-10 Batch 1:  The cost is 1.38759 and the accuracy is 56.46%.\n"
     ]
    }
   ],
   "source": [
    "\"\"\"\n",
    "DON'T MODIFY ANYTHING IN THIS CELL\n",
    "\"\"\"\n",
    "print('Checking the Training on a Single Batch...')\n",
    "with tf.Session() as sess:\n",
    "    # Initializing the variables\n",
    "    sess.run(tf.global_variables_initializer())\n",
    "    \n",
    "    # Training cycle\n",
    "    for epoch in range(epochs):\n",
    "        batch_i = 1\n",
    "        for batch_features, batch_labels in helper.load_preprocess_training_batch(batch_i, batch_size):\n",
    "            train_neural_network(sess, optimizer, keep_probability, batch_features, batch_labels)\n",
    "        print('Epoch {:>2}, CIFAR-10 Batch {}:  '.format(epoch + 1, batch_i), end='')\n",
    "        print_stats(sess, batch_features, batch_labels, cost, accuracy)"
   ]
  },
  {
   "cell_type": "markdown",
   "metadata": {},
   "source": [
    "### Fully Train the Model\n",
    "Now that you got a good accuracy with a single CIFAR-10 batch, try it with all five batches."
   ]
  },
  {
   "cell_type": "code",
   "execution_count": 18,
   "metadata": {
    "scrolled": false
   },
   "outputs": [
    {
     "name": "stdout",
     "output_type": "stream",
     "text": [
      "Training...\n",
      "Epoch  1, CIFAR-10 Batch 1:  The cost is 2.01983 and the accuracy is 29.52%.\n",
      "Epoch  1, CIFAR-10 Batch 2:  The cost is 1.83361 and the accuracy is 35.3%.\n",
      "Epoch  1, CIFAR-10 Batch 3:  The cost is 1.72494 and the accuracy is 40.44%.\n",
      "Epoch  1, CIFAR-10 Batch 4:  The cost is 1.62672 and the accuracy is 41.88%.\n",
      "Epoch  1, CIFAR-10 Batch 5:  The cost is 1.57282 and the accuracy is 43.56%.\n",
      "Epoch  2, CIFAR-10 Batch 1:  The cost is 1.52778 and the accuracy is 45.28%.\n",
      "Epoch  2, CIFAR-10 Batch 2:  The cost is 1.48415 and the accuracy is 47.72%.\n",
      "Epoch  2, CIFAR-10 Batch 3:  The cost is 1.44906 and the accuracy is 48.6%.\n",
      "Epoch  2, CIFAR-10 Batch 4:  The cost is 1.41969 and the accuracy is 49.74%.\n",
      "Epoch  2, CIFAR-10 Batch 5:  The cost is 1.41364 and the accuracy is 50.06%.\n",
      "Epoch  3, CIFAR-10 Batch 1:  The cost is 1.38376 and the accuracy is 51.04%.\n",
      "Epoch  3, CIFAR-10 Batch 2:  The cost is 1.3803 and the accuracy is 51.88%.\n",
      "Epoch  3, CIFAR-10 Batch 3:  The cost is 1.34397 and the accuracy is 52.58%.\n",
      "Epoch  3, CIFAR-10 Batch 4:  The cost is 1.32734 and the accuracy is 53.04%.\n",
      "Epoch  3, CIFAR-10 Batch 5:  The cost is 1.32152 and the accuracy is 53.36%.\n",
      "Epoch  4, CIFAR-10 Batch 1:  The cost is 1.3108 and the accuracy is 53.44%.\n",
      "Epoch  4, CIFAR-10 Batch 2:  The cost is 1.32207 and the accuracy is 53.76%.\n",
      "Epoch  4, CIFAR-10 Batch 3:  The cost is 1.28361 and the accuracy is 54.46%.\n",
      "Epoch  4, CIFAR-10 Batch 4:  The cost is 1.26882 and the accuracy is 55.36%.\n",
      "Epoch  4, CIFAR-10 Batch 5:  The cost is 1.25518 and the accuracy is 55.42%.\n",
      "Epoch  5, CIFAR-10 Batch 1:  The cost is 1.23479 and the accuracy is 56.34%.\n",
      "Epoch  5, CIFAR-10 Batch 2:  The cost is 1.27236 and the accuracy is 55.62%.\n",
      "Epoch  5, CIFAR-10 Batch 3:  The cost is 1.23808 and the accuracy is 55.66%.\n",
      "Epoch  5, CIFAR-10 Batch 4:  The cost is 1.2281 and the accuracy is 56.3%.\n",
      "Epoch  5, CIFAR-10 Batch 5:  The cost is 1.20947 and the accuracy is 56.88%.\n",
      "Epoch  6, CIFAR-10 Batch 1:  The cost is 1.19154 and the accuracy is 57.52%.\n",
      "Epoch  6, CIFAR-10 Batch 2:  The cost is 1.2177 and the accuracy is 57.0%.\n",
      "Epoch  6, CIFAR-10 Batch 3:  The cost is 1.19735 and the accuracy is 57.16%.\n",
      "Epoch  6, CIFAR-10 Batch 4:  The cost is 1.19221 and the accuracy is 57.06%.\n",
      "Epoch  6, CIFAR-10 Batch 5:  The cost is 1.16832 and the accuracy is 58.1%.\n",
      "Epoch  7, CIFAR-10 Batch 1:  The cost is 1.16564 and the accuracy is 58.08%.\n",
      "Epoch  7, CIFAR-10 Batch 2:  The cost is 1.15026 and the accuracy is 59.36%.\n",
      "Epoch  7, CIFAR-10 Batch 3:  The cost is 1.17807 and the accuracy is 58.48%.\n",
      "Epoch  7, CIFAR-10 Batch 4:  The cost is 1.17685 and the accuracy is 57.18%.\n",
      "Epoch  7, CIFAR-10 Batch 5:  The cost is 1.13474 and the accuracy is 59.3%.\n",
      "Epoch  8, CIFAR-10 Batch 1:  The cost is 1.13153 and the accuracy is 59.32%.\n",
      "Epoch  8, CIFAR-10 Batch 2:  The cost is 1.12219 and the accuracy is 59.92%.\n",
      "Epoch  8, CIFAR-10 Batch 3:  The cost is 1.13996 and the accuracy is 58.94%.\n",
      "Epoch  8, CIFAR-10 Batch 4:  The cost is 1.14439 and the accuracy is 58.78%.\n",
      "Epoch  8, CIFAR-10 Batch 5:  The cost is 1.1055 and the accuracy is 60.34%.\n",
      "Epoch  9, CIFAR-10 Batch 1:  The cost is 1.10292 and the accuracy is 60.58%.\n",
      "Epoch  9, CIFAR-10 Batch 2:  The cost is 1.09315 and the accuracy is 61.26%.\n",
      "Epoch  9, CIFAR-10 Batch 3:  The cost is 1.129 and the accuracy is 59.48%.\n",
      "Epoch  9, CIFAR-10 Batch 4:  The cost is 1.12858 and the accuracy is 59.72%.\n",
      "Epoch  9, CIFAR-10 Batch 5:  The cost is 1.08742 and the accuracy is 60.92%.\n",
      "Epoch 10, CIFAR-10 Batch 1:  The cost is 1.0783 and the accuracy is 61.56%.\n",
      "Epoch 10, CIFAR-10 Batch 2:  The cost is 1.06316 and the accuracy is 62.46%.\n",
      "Epoch 10, CIFAR-10 Batch 3:  The cost is 1.10501 and the accuracy is 60.78%.\n",
      "Epoch 10, CIFAR-10 Batch 4:  The cost is 1.10182 and the accuracy is 61.1%.\n",
      "Epoch 10, CIFAR-10 Batch 5:  The cost is 1.06685 and the accuracy is 61.72%.\n",
      "Epoch 11, CIFAR-10 Batch 1:  The cost is 1.06007 and the accuracy is 62.42%.\n",
      "Epoch 11, CIFAR-10 Batch 2:  The cost is 1.05127 and the accuracy is 62.66%.\n",
      "Epoch 11, CIFAR-10 Batch 3:  The cost is 1.07705 and the accuracy is 61.58%.\n",
      "Epoch 11, CIFAR-10 Batch 4:  The cost is 1.07887 and the accuracy is 62.42%.\n",
      "Epoch 11, CIFAR-10 Batch 5:  The cost is 1.04733 and the accuracy is 62.5%.\n",
      "Epoch 12, CIFAR-10 Batch 1:  The cost is 1.04829 and the accuracy is 62.7%.\n",
      "Epoch 12, CIFAR-10 Batch 2:  The cost is 1.03636 and the accuracy is 63.46%.\n",
      "Epoch 12, CIFAR-10 Batch 3:  The cost is 1.05056 and the accuracy is 62.48%.\n",
      "Epoch 12, CIFAR-10 Batch 4:  The cost is 1.05886 and the accuracy is 62.78%.\n",
      "Epoch 12, CIFAR-10 Batch 5:  The cost is 1.03904 and the accuracy is 62.62%.\n",
      "Epoch 13, CIFAR-10 Batch 1:  The cost is 1.02462 and the accuracy is 63.98%.\n",
      "Epoch 13, CIFAR-10 Batch 2:  The cost is 1.01555 and the accuracy is 64.44%.\n",
      "Epoch 13, CIFAR-10 Batch 3:  The cost is 1.0463 and the accuracy is 62.94%.\n",
      "Epoch 13, CIFAR-10 Batch 4:  The cost is 1.04063 and the accuracy is 63.42%.\n",
      "Epoch 13, CIFAR-10 Batch 5:  The cost is 1.01902 and the accuracy is 63.28%.\n",
      "Epoch 14, CIFAR-10 Batch 1:  The cost is 1.01023 and the accuracy is 64.52%.\n",
      "Epoch 14, CIFAR-10 Batch 2:  The cost is 1.00741 and the accuracy is 65.06%.\n",
      "Epoch 14, CIFAR-10 Batch 3:  The cost is 1.03602 and the accuracy is 63.56%.\n",
      "Epoch 14, CIFAR-10 Batch 4:  The cost is 1.0125 and the accuracy is 64.36%.\n",
      "Epoch 14, CIFAR-10 Batch 5:  The cost is 1.00652 and the accuracy is 64.34%.\n",
      "Epoch 15, CIFAR-10 Batch 1:  The cost is 1.00803 and the accuracy is 64.62%.\n",
      "Epoch 15, CIFAR-10 Batch 2:  The cost is 1.00329 and the accuracy is 65.16%.\n",
      "Epoch 15, CIFAR-10 Batch 3:  The cost is 1.01002 and the accuracy is 64.24%.\n",
      "Epoch 15, CIFAR-10 Batch 4:  The cost is 0.990627 and the accuracy is 64.9%.\n",
      "Epoch 15, CIFAR-10 Batch 5:  The cost is 1.00212 and the accuracy is 64.4%.\n",
      "Epoch 16, CIFAR-10 Batch 1:  The cost is 0.991817 and the accuracy is 65.02%.\n",
      "Epoch 16, CIFAR-10 Batch 2:  The cost is 0.976855 and the accuracy is 65.58%.\n",
      "Epoch 16, CIFAR-10 Batch 3:  The cost is 0.987614 and the accuracy is 65.36%.\n",
      "Epoch 16, CIFAR-10 Batch 4:  The cost is 0.978609 and the accuracy is 66.06%.\n",
      "Epoch 16, CIFAR-10 Batch 5:  The cost is 0.979791 and the accuracy is 65.26%.\n",
      "Epoch 17, CIFAR-10 Batch 1:  The cost is 0.978223 and the accuracy is 65.3%.\n",
      "Epoch 17, CIFAR-10 Batch 2:  The cost is 0.964499 and the accuracy is 65.88%.\n",
      "Epoch 17, CIFAR-10 Batch 3:  The cost is 0.97103 and the accuracy is 65.92%.\n",
      "Epoch 17, CIFAR-10 Batch 4:  The cost is 0.964928 and the accuracy is 66.36%.\n",
      "Epoch 17, CIFAR-10 Batch 5:  The cost is 0.970035 and the accuracy is 65.74%.\n",
      "Epoch 18, CIFAR-10 Batch 1:  The cost is 0.961544 and the accuracy is 66.2%.\n",
      "Epoch 18, CIFAR-10 Batch 2:  The cost is 0.949069 and the accuracy is 66.46%.\n",
      "Epoch 18, CIFAR-10 Batch 3:  The cost is 0.955114 and the accuracy is 66.32%.\n",
      "Epoch 18, CIFAR-10 Batch 4:  The cost is 0.957205 and the accuracy is 66.7%.\n",
      "Epoch 18, CIFAR-10 Batch 5:  The cost is 0.954907 and the accuracy is 66.28%.\n",
      "Epoch 19, CIFAR-10 Batch 1:  The cost is 0.947246 and the accuracy is 66.8%.\n",
      "Epoch 19, CIFAR-10 Batch 2:  The cost is 0.944806 and the accuracy is 66.82%.\n",
      "Epoch 19, CIFAR-10 Batch 3:  The cost is 0.944744 and the accuracy is 66.94%.\n",
      "Epoch 19, CIFAR-10 Batch 4:  The cost is 0.941613 and the accuracy is 66.84%.\n",
      "Epoch 19, CIFAR-10 Batch 5:  The cost is 0.945854 and the accuracy is 66.34%.\n",
      "Epoch 20, CIFAR-10 Batch 1:  The cost is 0.939568 and the accuracy is 67.1%.\n",
      "Epoch 20, CIFAR-10 Batch 2:  The cost is 0.943546 and the accuracy is 66.94%.\n",
      "Epoch 20, CIFAR-10 Batch 3:  The cost is 0.943518 and the accuracy is 67.2%.\n",
      "Epoch 20, CIFAR-10 Batch 4:  The cost is 0.936199 and the accuracy is 67.4%.\n",
      "Epoch 20, CIFAR-10 Batch 5:  The cost is 0.938709 and the accuracy is 66.92%.\n",
      "Epoch 21, CIFAR-10 Batch 1:  The cost is 0.934212 and the accuracy is 67.34%.\n",
      "Epoch 21, CIFAR-10 Batch 2:  The cost is 0.94132 and the accuracy is 67.0%.\n",
      "Epoch 21, CIFAR-10 Batch 3:  The cost is 0.934514 and the accuracy is 67.42%.\n",
      "Epoch 21, CIFAR-10 Batch 4:  The cost is 0.930234 and the accuracy is 67.92%.\n",
      "Epoch 21, CIFAR-10 Batch 5:  The cost is 0.92652 and the accuracy is 67.48%.\n",
      "Epoch 22, CIFAR-10 Batch 1:  The cost is 0.926974 and the accuracy is 67.88%.\n"
     ]
    },
    {
     "name": "stdout",
     "output_type": "stream",
     "text": [
      "Epoch 22, CIFAR-10 Batch 2:  The cost is 0.943506 and the accuracy is 66.76%.\n",
      "Epoch 22, CIFAR-10 Batch 3:  The cost is 0.932065 and the accuracy is 67.34%.\n",
      "Epoch 22, CIFAR-10 Batch 4:  The cost is 0.926799 and the accuracy is 67.9%.\n",
      "Epoch 22, CIFAR-10 Batch 5:  The cost is 0.939599 and the accuracy is 66.9%.\n",
      "Epoch 23, CIFAR-10 Batch 1:  The cost is 0.941703 and the accuracy is 67.36%.\n",
      "Epoch 23, CIFAR-10 Batch 2:  The cost is 0.941463 and the accuracy is 66.7%.\n",
      "Epoch 23, CIFAR-10 Batch 3:  The cost is 0.937396 and the accuracy is 67.76%.\n",
      "Epoch 23, CIFAR-10 Batch 4:  The cost is 0.949128 and the accuracy is 67.44%.\n",
      "Epoch 23, CIFAR-10 Batch 5:  The cost is 0.934097 and the accuracy is 66.8%.\n",
      "Epoch 24, CIFAR-10 Batch 1:  The cost is 0.946687 and the accuracy is 67.24%.\n",
      "Epoch 24, CIFAR-10 Batch 2:  The cost is 0.910729 and the accuracy is 68.08%.\n",
      "Epoch 24, CIFAR-10 Batch 3:  The cost is 0.947648 and the accuracy is 67.66%.\n",
      "Epoch 24, CIFAR-10 Batch 4:  The cost is 0.934691 and the accuracy is 67.5%.\n",
      "Epoch 24, CIFAR-10 Batch 5:  The cost is 0.947164 and the accuracy is 66.86%.\n",
      "Epoch 25, CIFAR-10 Batch 1:  The cost is 0.922472 and the accuracy is 68.5%.\n",
      "Epoch 25, CIFAR-10 Batch 2:  The cost is 0.935865 and the accuracy is 67.94%.\n",
      "Epoch 25, CIFAR-10 Batch 3:  The cost is 0.945122 and the accuracy is 67.12%.\n",
      "Epoch 25, CIFAR-10 Batch 4:  The cost is 0.970063 and the accuracy is 66.54%.\n",
      "Epoch 25, CIFAR-10 Batch 5:  The cost is 0.922401 and the accuracy is 68.32%.\n",
      "Epoch 26, CIFAR-10 Batch 1:  The cost is 0.930691 and the accuracy is 67.98%.\n",
      "Epoch 26, CIFAR-10 Batch 2:  The cost is 0.943816 and the accuracy is 67.9%.\n",
      "Epoch 26, CIFAR-10 Batch 3:  The cost is 0.943529 and the accuracy is 67.92%.\n",
      "Epoch 26, CIFAR-10 Batch 4:  The cost is 0.960566 and the accuracy is 66.56%.\n",
      "Epoch 26, CIFAR-10 Batch 5:  The cost is 0.943932 and the accuracy is 67.44%.\n",
      "Epoch 27, CIFAR-10 Batch 1:  The cost is 0.967208 and the accuracy is 66.72%.\n",
      "Epoch 27, CIFAR-10 Batch 2:  The cost is 0.953032 and the accuracy is 67.3%.\n",
      "Epoch 27, CIFAR-10 Batch 3:  The cost is 0.905429 and the accuracy is 68.82%.\n",
      "Epoch 27, CIFAR-10 Batch 4:  The cost is 0.936861 and the accuracy is 68.04%.\n",
      "Epoch 27, CIFAR-10 Batch 5:  The cost is 0.9707 and the accuracy is 66.9%.\n",
      "Epoch 28, CIFAR-10 Batch 1:  The cost is 0.942263 and the accuracy is 67.46%.\n",
      "Epoch 28, CIFAR-10 Batch 2:  The cost is 0.968401 and the accuracy is 67.22%.\n",
      "Epoch 28, CIFAR-10 Batch 3:  The cost is 0.92918 and the accuracy is 68.0%.\n",
      "Epoch 28, CIFAR-10 Batch 4:  The cost is 0.967808 and the accuracy is 66.68%.\n",
      "Epoch 28, CIFAR-10 Batch 5:  The cost is 0.990501 and the accuracy is 66.52%.\n",
      "Epoch 29, CIFAR-10 Batch 1:  The cost is 0.945245 and the accuracy is 67.88%.\n",
      "Epoch 29, CIFAR-10 Batch 2:  The cost is 0.936656 and the accuracy is 67.7%.\n",
      "Epoch 29, CIFAR-10 Batch 3:  The cost is 0.962785 and the accuracy is 67.62%.\n",
      "Epoch 29, CIFAR-10 Batch 4:  The cost is 1.06153 and the accuracy is 63.72%.\n",
      "Epoch 29, CIFAR-10 Batch 5:  The cost is 0.912924 and the accuracy is 68.38%.\n",
      "Epoch 30, CIFAR-10 Batch 1:  The cost is 0.921859 and the accuracy is 68.34%.\n",
      "Epoch 30, CIFAR-10 Batch 2:  The cost is 0.947898 and the accuracy is 68.16%.\n",
      "Epoch 30, CIFAR-10 Batch 3:  The cost is 0.967253 and the accuracy is 67.04%.\n",
      "Epoch 30, CIFAR-10 Batch 4:  The cost is 0.970996 and the accuracy is 66.64%.\n",
      "Epoch 30, CIFAR-10 Batch 5:  The cost is 0.913741 and the accuracy is 69.24%.\n",
      "Epoch 31, CIFAR-10 Batch 1:  The cost is 0.932645 and the accuracy is 67.98%.\n",
      "Epoch 31, CIFAR-10 Batch 2:  The cost is 0.963609 and the accuracy is 67.94%.\n",
      "Epoch 31, CIFAR-10 Batch 3:  The cost is 0.962059 and the accuracy is 67.42%.\n",
      "Epoch 31, CIFAR-10 Batch 4:  The cost is 0.964784 and the accuracy is 67.76%.\n",
      "Epoch 31, CIFAR-10 Batch 5:  The cost is 0.932808 and the accuracy is 68.54%.\n",
      "Epoch 32, CIFAR-10 Batch 1:  The cost is 0.927591 and the accuracy is 68.64%.\n",
      "Epoch 32, CIFAR-10 Batch 2:  The cost is 0.95717 and the accuracy is 68.24%.\n",
      "Epoch 32, CIFAR-10 Batch 3:  The cost is 0.975507 and the accuracy is 66.94%.\n",
      "Epoch 32, CIFAR-10 Batch 4:  The cost is 0.953422 and the accuracy is 68.08%.\n",
      "Epoch 32, CIFAR-10 Batch 5:  The cost is 0.952018 and the accuracy is 68.38%.\n",
      "Epoch 33, CIFAR-10 Batch 1:  The cost is 0.9416 and the accuracy is 67.78%.\n",
      "Epoch 33, CIFAR-10 Batch 2:  The cost is 0.962167 and the accuracy is 68.16%.\n",
      "Epoch 33, CIFAR-10 Batch 3:  The cost is 0.978557 and the accuracy is 67.32%.\n",
      "Epoch 33, CIFAR-10 Batch 4:  The cost is 0.958706 and the accuracy is 67.94%.\n",
      "Epoch 33, CIFAR-10 Batch 5:  The cost is 0.958007 and the accuracy is 68.22%.\n",
      "Epoch 34, CIFAR-10 Batch 1:  The cost is 0.963552 and the accuracy is 67.58%.\n",
      "Epoch 34, CIFAR-10 Batch 2:  The cost is 0.963488 and the accuracy is 68.3%.\n",
      "Epoch 34, CIFAR-10 Batch 3:  The cost is 1.00468 and the accuracy is 66.64%.\n",
      "Epoch 34, CIFAR-10 Batch 4:  The cost is 1.02047 and the accuracy is 66.86%.\n",
      "Epoch 34, CIFAR-10 Batch 5:  The cost is 0.996714 and the accuracy is 66.96%.\n",
      "Epoch 35, CIFAR-10 Batch 1:  The cost is 1.01809 and the accuracy is 66.1%.\n",
      "Epoch 35, CIFAR-10 Batch 2:  The cost is 1.00115 and the accuracy is 67.12%.\n",
      "Epoch 35, CIFAR-10 Batch 3:  The cost is 1.00292 and the accuracy is 66.62%.\n",
      "Epoch 35, CIFAR-10 Batch 4:  The cost is 1.0452 and the accuracy is 66.28%.\n",
      "Epoch 35, CIFAR-10 Batch 5:  The cost is 0.990544 and the accuracy is 66.84%.\n",
      "Epoch 36, CIFAR-10 Batch 1:  The cost is 1.01382 and the accuracy is 66.58%.\n",
      "Epoch 36, CIFAR-10 Batch 2:  The cost is 0.963565 and the accuracy is 68.14%.\n",
      "Epoch 36, CIFAR-10 Batch 3:  The cost is 0.935765 and the accuracy is 69.04%.\n",
      "Epoch 36, CIFAR-10 Batch 4:  The cost is 0.957012 and the accuracy is 68.8%.\n",
      "Epoch 36, CIFAR-10 Batch 5:  The cost is 0.954754 and the accuracy is 68.26%.\n",
      "Epoch 37, CIFAR-10 Batch 1:  The cost is 0.983184 and the accuracy is 67.88%.\n",
      "Epoch 37, CIFAR-10 Batch 2:  The cost is 0.982734 and the accuracy is 67.82%.\n",
      "Epoch 37, CIFAR-10 Batch 3:  The cost is 0.973803 and the accuracy is 68.42%.\n",
      "Epoch 37, CIFAR-10 Batch 4:  The cost is 0.988453 and the accuracy is 68.42%.\n",
      "Epoch 37, CIFAR-10 Batch 5:  The cost is 0.955366 and the accuracy is 68.74%.\n",
      "Epoch 38, CIFAR-10 Batch 1:  The cost is 0.93563 and the accuracy is 69.62%.\n",
      "Epoch 38, CIFAR-10 Batch 2:  The cost is 0.994097 and the accuracy is 68.32%.\n",
      "Epoch 38, CIFAR-10 Batch 3:  The cost is 1.0228 and the accuracy is 67.66%.\n",
      "Epoch 38, CIFAR-10 Batch 4:  The cost is 0.956262 and the accuracy is 69.24%.\n",
      "Epoch 38, CIFAR-10 Batch 5:  The cost is 1.00489 and the accuracy is 67.96%.\n",
      "Epoch 39, CIFAR-10 Batch 1:  The cost is 0.945337 and the accuracy is 70.2%.\n",
      "Epoch 39, CIFAR-10 Batch 2:  The cost is 0.964331 and the accuracy is 69.24%.\n",
      "Epoch 39, CIFAR-10 Batch 3:  The cost is 1.04099 and the accuracy is 66.8%.\n",
      "Epoch 39, CIFAR-10 Batch 4:  The cost is 0.976033 and the accuracy is 69.08%.\n",
      "Epoch 39, CIFAR-10 Batch 5:  The cost is 1.05132 and the accuracy is 66.76%.\n",
      "Epoch 40, CIFAR-10 Batch 1:  The cost is 0.932732 and the accuracy is 70.3%.\n",
      "Epoch 40, CIFAR-10 Batch 2:  The cost is 0.963607 and the accuracy is 69.1%.\n",
      "Epoch 40, CIFAR-10 Batch 3:  The cost is 1.01211 and the accuracy is 67.82%.\n",
      "Epoch 40, CIFAR-10 Batch 4:  The cost is 1.01716 and the accuracy is 68.32%.\n",
      "Epoch 40, CIFAR-10 Batch 5:  The cost is 1.04549 and the accuracy is 66.36%.\n",
      "Epoch 41, CIFAR-10 Batch 1:  The cost is 0.954435 and the accuracy is 69.6%.\n",
      "Epoch 41, CIFAR-10 Batch 2:  The cost is 0.986845 and the accuracy is 68.98%.\n",
      "Epoch 41, CIFAR-10 Batch 3:  The cost is 0.999615 and the accuracy is 68.2%.\n",
      "Epoch 41, CIFAR-10 Batch 4:  The cost is 1.03766 and the accuracy is 67.76%.\n",
      "Epoch 41, CIFAR-10 Batch 5:  The cost is 1.01288 and the accuracy is 68.12%.\n",
      "Epoch 42, CIFAR-10 Batch 1:  The cost is 0.980299 and the accuracy is 69.6%.\n",
      "Epoch 42, CIFAR-10 Batch 2:  The cost is 0.988445 and the accuracy is 68.9%.\n",
      "Epoch 42, CIFAR-10 Batch 3:  The cost is 0.970282 and the accuracy is 69.58%.\n",
      "Epoch 42, CIFAR-10 Batch 4:  The cost is 1.00381 and the accuracy is 69.2%.\n",
      "Epoch 42, CIFAR-10 Batch 5:  The cost is 0.994487 and the accuracy is 69.06%.\n",
      "Epoch 43, CIFAR-10 Batch 1:  The cost is 0.96084 and the accuracy is 69.5%.\n"
     ]
    },
    {
     "name": "stdout",
     "output_type": "stream",
     "text": [
      "Epoch 43, CIFAR-10 Batch 2:  The cost is 0.992201 and the accuracy is 69.4%.\n",
      "Epoch 43, CIFAR-10 Batch 3:  The cost is 0.992637 and the accuracy is 69.14%.\n",
      "Epoch 43, CIFAR-10 Batch 4:  The cost is 0.990083 and the accuracy is 69.38%.\n",
      "Epoch 43, CIFAR-10 Batch 5:  The cost is 0.983364 and the accuracy is 69.4%.\n",
      "Epoch 44, CIFAR-10 Batch 1:  The cost is 0.961727 and the accuracy is 70.0%.\n",
      "Epoch 44, CIFAR-10 Batch 2:  The cost is 1.00365 and the accuracy is 69.14%.\n",
      "Epoch 44, CIFAR-10 Batch 3:  The cost is 1.00946 and the accuracy is 69.12%.\n",
      "Epoch 44, CIFAR-10 Batch 4:  The cost is 1.00839 and the accuracy is 69.3%.\n",
      "Epoch 44, CIFAR-10 Batch 5:  The cost is 1.00656 and the accuracy is 69.62%.\n",
      "Epoch 45, CIFAR-10 Batch 1:  The cost is 0.976335 and the accuracy is 70.1%.\n",
      "Epoch 45, CIFAR-10 Batch 2:  The cost is 0.997464 and the accuracy is 69.94%.\n",
      "Epoch 45, CIFAR-10 Batch 3:  The cost is 1.01732 and the accuracy is 68.72%.\n",
      "Epoch 45, CIFAR-10 Batch 4:  The cost is 1.00848 and the accuracy is 69.7%.\n",
      "Epoch 45, CIFAR-10 Batch 5:  The cost is 1.03487 and the accuracy is 69.5%.\n",
      "Epoch 46, CIFAR-10 Batch 1:  The cost is 0.99421 and the accuracy is 69.72%.\n",
      "Epoch 46, CIFAR-10 Batch 2:  The cost is 1.01629 and the accuracy is 69.76%.\n",
      "Epoch 46, CIFAR-10 Batch 3:  The cost is 1.03474 and the accuracy is 68.76%.\n",
      "Epoch 46, CIFAR-10 Batch 4:  The cost is 1.00833 and the accuracy is 69.78%.\n",
      "Epoch 46, CIFAR-10 Batch 5:  The cost is 1.03473 and the accuracy is 69.9%.\n",
      "Epoch 47, CIFAR-10 Batch 1:  The cost is 1.00594 and the accuracy is 70.12%.\n",
      "Epoch 47, CIFAR-10 Batch 2:  The cost is 1.0208 and the accuracy is 69.66%.\n",
      "Epoch 47, CIFAR-10 Batch 3:  The cost is 1.05788 and the accuracy is 68.74%.\n",
      "Epoch 47, CIFAR-10 Batch 4:  The cost is 1.02324 and the accuracy is 69.8%.\n",
      "Epoch 47, CIFAR-10 Batch 5:  The cost is 1.05385 and the accuracy is 69.62%.\n",
      "Epoch 48, CIFAR-10 Batch 1:  The cost is 1.02212 and the accuracy is 70.2%.\n",
      "Epoch 48, CIFAR-10 Batch 2:  The cost is 1.03266 and the accuracy is 69.76%.\n",
      "Epoch 48, CIFAR-10 Batch 3:  The cost is 1.0792 and the accuracy is 68.82%.\n",
      "Epoch 48, CIFAR-10 Batch 4:  The cost is 1.03958 and the accuracy is 69.22%.\n",
      "Epoch 48, CIFAR-10 Batch 5:  The cost is 1.07542 and the accuracy is 69.74%.\n",
      "Epoch 49, CIFAR-10 Batch 1:  The cost is 1.04702 and the accuracy is 70.1%.\n",
      "Epoch 49, CIFAR-10 Batch 2:  The cost is 1.03995 and the accuracy is 69.78%.\n",
      "Epoch 49, CIFAR-10 Batch 3:  The cost is 1.06629 and the accuracy is 69.6%.\n",
      "Epoch 49, CIFAR-10 Batch 4:  The cost is 1.05033 and the accuracy is 69.82%.\n",
      "Epoch 49, CIFAR-10 Batch 5:  The cost is 1.07437 and the accuracy is 69.72%.\n",
      "Epoch 50, CIFAR-10 Batch 1:  The cost is 1.07256 and the accuracy is 69.36%.\n",
      "Epoch 50, CIFAR-10 Batch 2:  The cost is 1.05031 and the accuracy is 70.12%.\n",
      "Epoch 50, CIFAR-10 Batch 3:  The cost is 1.10509 and the accuracy is 68.96%.\n",
      "Epoch 50, CIFAR-10 Batch 4:  The cost is 1.11115 and the accuracy is 68.7%.\n",
      "Epoch 50, CIFAR-10 Batch 5:  The cost is 1.11468 and the accuracy is 69.32%.\n"
     ]
    }
   ],
   "source": [
    "\"\"\"\n",
    "DON'T MODIFY ANYTHING IN THIS CELL\n",
    "\"\"\"\n",
    "save_model_path = './image_classification'\n",
    "\n",
    "print('Training...')\n",
    "with tf.Session() as sess:\n",
    "    # Initializing the variables\n",
    "    sess.run(tf.global_variables_initializer())\n",
    "    \n",
    "    # Training cycle\n",
    "    for epoch in range(epochs):\n",
    "        # Loop over all batches\n",
    "        n_batches = 5\n",
    "        for batch_i in range(1, n_batches + 1):\n",
    "            for batch_features, batch_labels in helper.load_preprocess_training_batch(batch_i, batch_size):\n",
    "                train_neural_network(sess, optimizer, keep_probability, batch_features, batch_labels)\n",
    "            print('Epoch {:>2}, CIFAR-10 Batch {}:  '.format(epoch + 1, batch_i), end='')\n",
    "            print_stats(sess, batch_features, batch_labels, cost, accuracy)\n",
    "            \n",
    "    # Save Model\n",
    "    saver = tf.train.Saver()\n",
    "    save_path = saver.save(sess, save_model_path)"
   ]
  },
  {
   "cell_type": "markdown",
   "metadata": {},
   "source": [
    "# Checkpoint\n",
    "The model has been saved to disk.\n",
    "## Test Model\n",
    "Test your model against the test dataset.  This will be your final accuracy. You should have an accuracy greater than 50%. If you don't, keep tweaking the model architecture and parameters."
   ]
  },
  {
   "cell_type": "code",
   "execution_count": 19,
   "metadata": {},
   "outputs": [
    {
     "name": "stdout",
     "output_type": "stream",
     "text": [
      "INFO:tensorflow:Restoring parameters from ./image_classification\n",
      "Testing Accuracy: 0.6848353803157806\n",
      "\n"
     ]
    },
    {
     "data": {
      "image/png": "[encoded data removed]",
      "text/plain": [
       "<matplotlib.figure.Figure at 0x2e194ddac50>"
      ]
     },
     "metadata": {
      "image/png": {
       "height": 319,
       "width": 355
      }
     },
     "output_type": "display_data"
    }
   ],
   "source": [
    "\"\"\"\n",
    "DON'T MODIFY ANYTHING IN THIS CELL\n",
    "\"\"\"\n",
    "%matplotlib inline\n",
    "%config InlineBackend.figure_format = 'retina'\n",
    "\n",
    "import tensorflow as tf\n",
    "import pickle\n",
    "import helper\n",
    "import random\n",
    "\n",
    "# Set batch size if not already set\n",
    "try:\n",
    "    if batch_size:\n",
    "        pass\n",
    "except NameError:\n",
    "    batch_size = 64\n",
    "\n",
    "save_model_path = './image_classification'\n",
    "n_samples = 4\n",
    "top_n_predictions = 3\n",
    "\n",
    "def test_model():\n",
    "    \"\"\"\n",
    "    Test the saved model against the test dataset\n",
    "    \"\"\"\n",
    "\n",
    "    test_features, test_labels = pickle.load(open('preprocess_training.p', mode='rb'))\n",
    "    loaded_graph = tf.Graph()\n",
    "\n",
    "    with tf.Session(graph=loaded_graph) as sess:\n",
    "        # Load model\n",
    "        loader = tf.train.import_meta_graph(save_model_path + '.meta')\n",
    "        loader.restore(sess, save_model_path)\n",
    "\n",
    "        # Get Tensors from loaded model\n",
    "        loaded_x = loaded_graph.get_tensor_by_name('x:0')\n",
    "        loaded_y = loaded_graph.get_tensor_by_name('y:0')\n",
    "        loaded_keep_prob = loaded_graph.get_tensor_by_name('keep_prob:0')\n",
    "        loaded_logits = loaded_graph.get_tensor_by_name('logits:0')\n",
    "        loaded_acc = loaded_graph.get_tensor_by_name('accuracy:0')\n",
    "        \n",
    "        # Get accuracy in batches for memory limitations\n",
    "        test_batch_acc_total = 0\n",
    "        test_batch_count = 0\n",
    "        \n",
    "        for train_feature_batch, train_label_batch in helper.batch_features_labels(test_features, test_labels, batch_size):\n",
    "            test_batch_acc_total += sess.run(\n",
    "                loaded_acc,\n",
    "                feed_dict={loaded_x: train_feature_batch, loaded_y: train_label_batch, loaded_keep_prob: 1.0})\n",
    "            test_batch_count += 1\n",
    "\n",
    "        print('Testing Accuracy: {}\\n'.format(test_batch_acc_total/test_batch_count))\n",
    "\n",
    "        # Print Random Samples\n",
    "        random_test_features, random_test_labels = tuple(zip(*random.sample(list(zip(test_features, test_labels)), n_samples)))\n",
    "        random_test_predictions = sess.run(\n",
    "            tf.nn.top_k(tf.nn.softmax(loaded_logits), top_n_predictions),\n",
    "            feed_dict={loaded_x: random_test_features, loaded_y: random_test_labels, loaded_keep_prob: 1.0})\n",
    "        helper.display_image_predictions(random_test_features, random_test_labels, random_test_predictions)\n",
    "\n",
    "\n",
    "test_model()"
   ]
  },
  {
   "cell_type": "markdown",
   "metadata": {},
   "source": [
    "## Why 50-80% Accuracy?\n",
    "You might be wondering why you can't get an accuracy any higher. First things first, 50% isn't bad for a simple CNN.  Pure guessing would get you 10% accuracy. That's because there are many more techniques that can be applied to your model and we recemmond that once you are done with this project, you explore!\n",
    "\n",
    "## Submitting This Project\n",
    "When submitting this project, make sure to run all the cells before saving the notebook.  Save the notebook file as \"image_classification.ipynb\" and save it as a HTML file under \"File\" -> \"Download as\".  Include the \"helper.py\" and \"problem_unittests.py\" files in your submission."
   ]
  }
 ],
 "metadata": {
  "kernelspec": {
   "display_name": "Python 3",
   "language": "python",
   "name": "python3"
  },
  "language_info": {
   "codemirror_mode": {
    "name": "ipython",
    "version": 3
   },
   "file_extension": ".py",
   "mimetype": "text/x-python",
   "name": "python",
   "nbconvert_exporter": "python",
   "pygments_lexer": "ipython3",
   "version": "3.5.0"
  }
 },
 "nbformat": 4,
 "nbformat_minor": 1
}
