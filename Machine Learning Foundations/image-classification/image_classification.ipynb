{
 "cells": [
  {
   "cell_type": "markdown",
   "metadata": {
    "collapsed": true
   },
   "source": [
    "# Image Classification\n",
    "In this project, you'll classify images from the [CIFAR-10 dataset](https://www.cs.toronto.edu/~kriz/cifar.html).  The dataset consists of airplanes, dogs, cats, and other objects. You'll preprocess the images, then train a convolutional neural network on all the samples. The images need to be normalized and the labels need to be one-hot encoded.  You'll get to apply what you learned and build a convolutional, max pooling, dropout, and fully connected layers.  At the end, you'll get to see your neural network's predictions on the sample images.\n",
    "## Get the Data\n",
    "Run the following cell to download the [CIFAR-10 dataset for python](https://www.cs.toronto.edu/~kriz/cifar-10-python.tar.gz)."
   ]
  },
  {
   "cell_type": "code",
   "execution_count": 26,
   "metadata": {
    "collapsed": false
   },
   "outputs": [
    {
     "name": "stdout",
     "output_type": "stream",
     "text": [
      "All files found!\n"
     ]
    }
   ],
   "source": [
    "\"\"\"\n",
    "DON'T MODIFY ANYTHING IN THIS CELL THAT IS BELOW THIS LINE\n",
    "\"\"\"\n",
    "from urllib.request import urlretrieve\n",
    "from os.path import isfile, isdir\n",
    "from tqdm import tqdm\n",
    "import problem_unittests as tests\n",
    "import tarfile\n",
    "\n",
    "cifar10_dataset_folder_path = 'cifar-10-batches-py'\n",
    "\n",
    "class DLProgress(tqdm):\n",
    "    last_block = 0\n",
    "\n",
    "    def hook(self, block_num=1, block_size=1, total_size=None):\n",
    "        self.total = total_size\n",
    "        self.update((block_num - self.last_block) * block_size)\n",
    "        self.last_block = block_num\n",
    "\n",
    "if not isfile('cifar-10-python.tar.gz'):\n",
    "    with DLProgress(unit='B', unit_scale=True, miniters=1, desc='CIFAR-10 Dataset') as pbar:\n",
    "        urlretrieve(\n",
    "            'https://www.cs.toronto.edu/~kriz/cifar-10-python.tar.gz',\n",
    "            'cifar-10-python.tar.gz',\n",
    "            pbar.hook)\n",
    "\n",
    "if not isdir(cifar10_dataset_folder_path):\n",
    "    with tarfile.open('cifar-10-python.tar.gz') as tar:\n",
    "        tar.extractall()\n",
    "        tar.close()\n",
    "\n",
    "\n",
    "tests.test_folder_path(cifar10_dataset_folder_path)"
   ]
  },
  {
   "cell_type": "markdown",
   "metadata": {},
   "source": [
    "## Explore the Data\n",
    "The dataset is broken into batches to prevent your machine from running out of memory.  The CIFAR-10 dataset consists of 5 batches, named `data_batch_1`, `data_batch_2`, etc.. Each batch contains the labels and images that are one of the following:\n",
    "* airplane\n",
    "* automobile\n",
    "* bird\n",
    "* cat\n",
    "* deer\n",
    "* dog\n",
    "* frog\n",
    "* horse\n",
    "* ship\n",
    "* truck\n",
    "\n",
    "Understanding a dataset is part of making predictions on the data.  Play around with the code cell below by changing the `batch_id` and `sample_id`. The `batch_id` is the id for a batch (1-5). The `sample_id` is the id for a image and label pair in the batch.\n",
    "\n",
    "Ask yourself \"What are all possible labels?\", \"What is the range of values for the image data?\", \"Are the labels in order or random?\".  Answers to questions like these will help you preprocess the data and end up with better predictions."
   ]
  },
  {
   "cell_type": "code",
   "execution_count": 27,
   "metadata": {
    "collapsed": false
   },
   "outputs": [
    {
     "name": "stdout",
     "output_type": "stream",
     "text": [
      "\n",
      "Stats of batch 1:\n",
      "Samples: 10000\n",
      "Label Counts: {0: 1005, 1: 974, 2: 1032, 3: 1016, 4: 999, 5: 937, 6: 1030, 7: 1001, 8: 1025, 9: 981}\n",
      "First 20 Labels: [6, 9, 9, 4, 1, 1, 2, 7, 8, 3, 4, 7, 7, 2, 9, 9, 9, 3, 2, 6]\n",
      "\n",
      "Example of Image 5:\n",
      "Image - Min Value: 0 Max Value: 252\n",
      "Image - Shape: (32, 32, 3)\n",
      "Label - Label Id: 1 Name: automobile\n"
     ]
    },
    {
     "data": {
      "image/png": "[encoded data removed]",
      "text/plain": [
       "<matplotlib.figure.Figure at 0x24833238d68>"
      ]
     },
     "metadata": {
      "image/png": {
       "height": 250,
       "width": 253
      }
     },
     "output_type": "display_data"
    }
   ],
   "source": [
    "%matplotlib inline\n",
    "%config InlineBackend.figure_format = 'retina'\n",
    "\n",
    "import helper\n",
    "import numpy as np\n",
    "\n",
    "# Explore the dataset\n",
    "batch_id = 1\n",
    "sample_id = 5\n",
    "helper.display_stats(cifar10_dataset_folder_path, batch_id, sample_id)"
   ]
  },
  {
   "cell_type": "markdown",
   "metadata": {},
   "source": [
    "## Implement Preprocess Functions\n",
    "### Normalize\n",
    "In the cell below, implement the `normalize` function to take in image data, `x`, and return it as a normalized Numpy array. The values should be in the range of 0 to 1, inclusive.  The return object should be the same shape as `x`."
   ]
  },
  {
   "cell_type": "code",
   "execution_count": 28,
   "metadata": {
    "collapsed": false
   },
   "outputs": [
    {
     "name": "stdout",
     "output_type": "stream",
     "text": [
      "Tests Passed\n"
     ]
    }
   ],
   "source": [
    "def normalize(x):\n",
    "    \"\"\"\n",
    "    Normalize a list of sample image data in the range of 0 to 1\n",
    "    : x: List of image data.  The image shape is (32, 32, 3)\n",
    "    : return: Numpy array of normalize data\n",
    "    \"\"\"\n",
    "    max_x = np.max(x)\n",
    "    min_x = np.min(x)\n",
    "    normalized_list = []\n",
    "    for i in x:\n",
    "        normalized = (i - min_x) / (max_x - min_x)\n",
    "        normalized_list.append(normalized)\n",
    "    return np.array(normalized_list)\n",
    "\n",
    "\n",
    "\"\"\"\n",
    "DON'T MODIFY ANYTHING IN THIS CELL THAT IS BELOW THIS LINE\n",
    "\"\"\"\n",
    "tests.test_normalize(normalize)"
   ]
  },
  {
   "cell_type": "markdown",
   "metadata": {},
   "source": [
    "### One-hot encode\n",
    "Just like the previous code cell, you'll be implementing a function for preprocessing.  This time, you'll implement the `one_hot_encode` function. The input, `x`, are a list of labels.  Implement the function to return the list of labels as One-Hot encoded Numpy array.  The possible values for labels are 0 to 9. The one-hot encoding function should return the same encoding for each value between each call to `one_hot_encode`.  Make sure to save the map of encodings outside the function.\n",
    "\n",
    "**Hint:**\n",
    "\n",
    "Look into LabelBinarizer in the preprocessing module of sklearn."
   ]
  },
  {
   "cell_type": "code",
   "execution_count": 29,
   "metadata": {
    "collapsed": false
   },
   "outputs": [
    {
     "name": "stdout",
     "output_type": "stream",
     "text": [
      "Tests Passed\n"
     ]
    }
   ],
   "source": [
    "from sklearn.preprocessing import LabelBinarizer as lb\n",
    "\n",
    "def one_hot_encode(x):\n",
    "    \"\"\"\n",
    "    One hot encode a list of sample labels. Return a one-hot encoded vector for each label.\n",
    "    : x: List of sample Labels\n",
    "    : return: Numpy array of one-hot encoded labels\n",
    "    \"\"\"\n",
    "    \n",
    "    labels = lb().fit(range(0, 10))\n",
    "    \n",
    "    return np.array(labels.transform(x))\n",
    "\n",
    "\n",
    "\"\"\"\n",
    "DON'T MODIFY ANYTHING IN THIS CELL THAT IS BELOW THIS LINE\n",
    "\"\"\"\n",
    "tests.test_one_hot_encode(one_hot_encode)"
   ]
  },
  {
   "cell_type": "markdown",
   "metadata": {},
   "source": [
    "### Randomize Data\n",
    "As you saw from exploring the data above, the order of the samples are randomized.  It doesn't hurt to randomize it again, but you don't need to for this dataset."
   ]
  },
  {
   "cell_type": "markdown",
   "metadata": {},
   "source": [
    "## Preprocess all the data and save it\n",
    "Running the code cell below will preprocess all the CIFAR-10 data and save it to file. The code below also uses 10% of the training data for validation."
   ]
  },
  {
   "cell_type": "code",
   "execution_count": 30,
   "metadata": {
    "collapsed": true
   },
   "outputs": [],
   "source": [
    "\"\"\"\n",
    "DON'T MODIFY ANYTHING IN THIS CELL\n",
    "\"\"\"\n",
    "# Preprocess Training, Validation, and Testing Data\n",
    "helper.preprocess_and_save_data(cifar10_dataset_folder_path, normalize, one_hot_encode)"
   ]
  },
  {
   "cell_type": "markdown",
   "metadata": {},
   "source": [
    "# Check Point\n",
    "This is your first checkpoint.  If you ever decide to come back to this notebook or have to restart the notebook, you can start from here.  The preprocessed data has been saved to disk."
   ]
  },
  {
   "cell_type": "code",
   "execution_count": 31,
   "metadata": {
    "collapsed": true
   },
   "outputs": [],
   "source": [
    "\"\"\"\n",
    "DON'T MODIFY ANYTHING IN THIS CELL\n",
    "\"\"\"\n",
    "import pickle\n",
    "import problem_unittests as tests\n",
    "import helper\n",
    "\n",
    "# Load the Preprocessed Validation data\n",
    "valid_features, valid_labels = pickle.load(open('preprocess_validation.p', mode='rb'))"
   ]
  },
  {
   "cell_type": "markdown",
   "metadata": {},
   "source": [
    "## Build the network\n",
    "For the neural network, you'll build each layer into a function.  Most of the code you've seen has been outside of functions. To test your code more thoroughly, we require that you put each layer in a function.  This allows us to give you better feedback and test for simple mistakes using our unittests before you submit your project.\n",
    "\n",
    ">**Note:** If you're finding it hard to dedicate enough time for this course each week, we've provided a small shortcut to this part of the project. In the next couple of problems, you'll have the option to use classes from the [TensorFlow Layers](https://www.tensorflow.org/api_docs/python/tf/layers) or [TensorFlow Layers (contrib)](https://www.tensorflow.org/api_guides/python/contrib.layers) packages to build each layer, except the layers you build in the \"Convolutional and Max Pooling Layer\" section.  TF Layers is similar to Keras's and TFLearn's abstraction to layers, so it's easy to pickup.\n",
    "\n",
    ">However, if you would like to get the most out of this course, try to solve all the problems _without_ using anything from the TF Layers packages. You **can** still use classes from other packages that happen to have the same name as ones you find in TF Layers! For example, instead of using the TF Layers version of the `conv2d` class, [tf.layers.conv2d](https://www.tensorflow.org/api_docs/python/tf/layers/conv2d), you would want to use the TF Neural Network version of `conv2d`, [tf.nn.conv2d](https://www.tensorflow.org/api_docs/python/tf/nn/conv2d). \n",
    "\n",
    "Let's begin!\n",
    "\n",
    "### Input\n",
    "The neural network needs to read the image data, one-hot encoded labels, and dropout keep probability. Implement the following functions\n",
    "* Implement `neural_net_image_input`\n",
    " * Return a [TF Placeholder](https://www.tensorflow.org/api_docs/python/tf/placeholder)\n",
    " * Set the shape using `image_shape` with batch size set to `None`.\n",
    " * Name the TensorFlow placeholder \"x\" using the TensorFlow `name` parameter in the [TF Placeholder](https://www.tensorflow.org/api_docs/python/tf/placeholder).\n",
    "* Implement `neural_net_label_input`\n",
    " * Return a [TF Placeholder](https://www.tensorflow.org/api_docs/python/tf/placeholder)\n",
    " * Set the shape using `n_classes` with batch size set to `None`.\n",
    " * Name the TensorFlow placeholder \"y\" using the TensorFlow `name` parameter in the [TF Placeholder](https://www.tensorflow.org/api_docs/python/tf/placeholder).\n",
    "* Implement `neural_net_keep_prob_input`\n",
    " * Return a [TF Placeholder](https://www.tensorflow.org/api_docs/python/tf/placeholder) for dropout keep probability.\n",
    " * Name the TensorFlow placeholder \"keep_prob\" using the TensorFlow `name` parameter in the [TF Placeholder](https://www.tensorflow.org/api_docs/python/tf/placeholder).\n",
    "\n",
    "These names will be used at the end of the project to load your saved model.\n",
    "\n",
    "Note: `None` for shapes in TensorFlow allow for a dynamic size."
   ]
  },
  {
   "cell_type": "code",
   "execution_count": 32,
   "metadata": {
    "collapsed": false
   },
   "outputs": [
    {
     "name": "stdout",
     "output_type": "stream",
     "text": [
      "Image Input Tests Passed.\n",
      "Label Input Tests Passed.\n",
      "Keep Prob Tests Passed.\n"
     ]
    }
   ],
   "source": [
    "import tensorflow as tf\n",
    "\n",
    "def neural_net_image_input(image_shape):\n",
    "    \"\"\"\n",
    "    Return a Tensor for a batch of image input\n",
    "    : image_shape: Shape of the images\n",
    "    : return: Tensor for image input.\n",
    "    \"\"\"\n",
    "    return tf.placeholder(tf.float32, shape=(None, image_shape[0], image_shape[1], image_shape[2]), name='x')\n",
    "\n",
    "\n",
    "def neural_net_label_input(n_classes):\n",
    "    \"\"\"\n",
    "    Return a Tensor for a batch of label input\n",
    "    : n_classes: Number of classes\n",
    "    : return: Tensor for label input.\n",
    "    \"\"\"\n",
    "    \n",
    "    return tf.placeholder(tf.int32, shape=(None, n_classes), name='y')\n",
    "\n",
    "\n",
    "def neural_net_keep_prob_input():\n",
    "    \"\"\"\n",
    "    Return a Tensor for keep probability\n",
    "    : return: Tensor for keep probability.\n",
    "    \"\"\"\n",
    "    \n",
    "    return tf.placeholder(tf.float32, name='keep_prob')\n",
    "\n",
    "\n",
    "\"\"\"\n",
    "DON'T MODIFY ANYTHING IN THIS CELL THAT IS BELOW THIS LINE\n",
    "\"\"\"\n",
    "tf.reset_default_graph()\n",
    "tests.test_nn_image_inputs(neural_net_image_input)\n",
    "tests.test_nn_label_inputs(neural_net_label_input)\n",
    "tests.test_nn_keep_prob_inputs(neural_net_keep_prob_input)"
   ]
  },
  {
   "cell_type": "markdown",
   "metadata": {},
   "source": [
    "### Convolution and Max Pooling Layer\n",
    "Convolution layers have a lot of success with images. For this code cell, you should implement the function `conv2d_maxpool` to apply convolution then max pooling:\n",
    "* Create the weight and bias using `conv_ksize`, `conv_num_outputs` and the shape of `x_tensor`.\n",
    "* Apply a convolution to `x_tensor` using weight and `conv_strides`.\n",
    " * We recommend you use same padding, but you're welcome to use any padding.\n",
    "* Add bias\n",
    "* Add a nonlinear activation to the convolution.\n",
    "* Apply Max Pooling using `pool_ksize` and `pool_strides`.\n",
    " * We recommend you use same padding, but you're welcome to use any padding.\n",
    "\n",
    "**Note:** You **can't** use [TensorFlow Layers](https://www.tensorflow.org/api_docs/python/tf/layers) or [TensorFlow Layers (contrib)](https://www.tensorflow.org/api_guides/python/contrib.layers) for **this** layer, but you can still use TensorFlow's [Neural Network](https://www.tensorflow.org/api_docs/python/tf/nn) package. You may still use the shortcut option for all the **other** layers.\n",
    "\n",
    "** Hint: **\n",
    "\n",
    "When unpacking values as an argument in Python, look into the [unpacking](https://docs.python.org/3/tutorial/controlflow.html#unpacking-argument-lists) operator. "
   ]
  },
  {
   "cell_type": "code",
   "execution_count": 33,
   "metadata": {
    "collapsed": false
   },
   "outputs": [
    {
     "name": "stdout",
     "output_type": "stream",
     "text": [
      "Tests Passed\n"
     ]
    }
   ],
   "source": [
    "def conv2d_maxpool(x_tensor, conv_num_outputs, conv_ksize, conv_strides, pool_ksize, pool_strides):\n",
    "    \"\"\"\n",
    "    Apply convolution then max pooling to x_tensor\n",
    "    :param x_tensor: TensorFlow Tensor\n",
    "    :param conv_num_outputs: Number of outputs for the convolutional layer\n",
    "    :param conv_ksize: kernal size 2-D Tuple for the convolutional layer\n",
    "    :param conv_strides: Stride 2-D Tuple for convolution\n",
    "    :param pool_ksize: kernal size 2-D Tuple for pool\n",
    "    :param pool_strides: Stride 2-D Tuple for pool\n",
    "    : return: A tensor that represents convolution and max pooling of x_tensor\n",
    "    \"\"\"\n",
    "    weights = tf.Variable(tf.random_normal([conv_ksize[0], conv_ksize[1], x_tensor.get_shape().as_list()[-1], conv_num_outputs],\n",
    "                                          stddev=0.1))\n",
    "    bias = tf.Variable(tf.zeros(conv_num_outputs))\n",
    "    convolution = tf.nn.conv2d(x_tensor, weights, strides=[1, *conv_strides, 1], padding='SAME')\n",
    "    conv_with_bias = tf.nn.bias_add(convolution, bias)\n",
    "    nonlinear_activation = tf.nn.relu(conv_with_bias)\n",
    "    final_layer = tf.nn.max_pool(nonlinear_activation, [1, *pool_ksize, 1], [1, *pool_strides, 1], padding='SAME')\n",
    "    \n",
    "    return final_layer\n",
    "\n",
    "\n",
    "\"\"\"\n",
    "DON'T MODIFY ANYTHING IN THIS CELL THAT IS BELOW THIS LINE\n",
    "\"\"\"\n",
    "tests.test_con_pool(conv2d_maxpool)"
   ]
  },
  {
   "cell_type": "markdown",
   "metadata": {},
   "source": [
    "### Flatten Layer\n",
    "Implement the `flatten` function to change the dimension of `x_tensor` from a 4-D tensor to a 2-D tensor.  The output should be the shape (*Batch Size*, *Flattened Image Size*). Shortcut option: you can use classes from the [TensorFlow Layers](https://www.tensorflow.org/api_docs/python/tf/layers) or [TensorFlow Layers (contrib)](https://www.tensorflow.org/api_guides/python/contrib.layers) packages for this layer. For more of a challenge, only use other TensorFlow packages."
   ]
  },
  {
   "cell_type": "code",
   "execution_count": 34,
   "metadata": {
    "collapsed": false
   },
   "outputs": [
    {
     "name": "stdout",
     "output_type": "stream",
     "text": [
      "Tests Passed\n"
     ]
    }
   ],
   "source": [
    "def flatten(x_tensor):\n",
    "    \"\"\"\n",
    "    Flatten x_tensor to (Batch Size, Flattened Image Size)\n",
    "    : x_tensor: A tensor of size (Batch Size, ...), where ... are the image dimensions.\n",
    "    : return: A tensor of size (Batch Size, Flattened Image Size).\n",
    "    \"\"\"\n",
    "    flatten = tf.contrib.layers.flatten(x_tensor)\n",
    "    return flatten\n",
    "\n",
    "\n",
    "\"\"\"\n",
    "DON'T MODIFY ANYTHING IN THIS CELL THAT IS BELOW THIS LINE\n",
    "\"\"\"\n",
    "tests.test_flatten(flatten)"
   ]
  },
  {
   "cell_type": "markdown",
   "metadata": {},
   "source": [
    "### Fully-Connected Layer\n",
    "Implement the `fully_conn` function to apply a fully connected layer to `x_tensor` with the shape (*Batch Size*, *num_outputs*). Shortcut option: you can use classes from the [TensorFlow Layers](https://www.tensorflow.org/api_docs/python/tf/layers) or [TensorFlow Layers (contrib)](https://www.tensorflow.org/api_guides/python/contrib.layers) packages for this layer. For more of a challenge, only use other TensorFlow packages."
   ]
  },
  {
   "cell_type": "code",
   "execution_count": 35,
   "metadata": {
    "collapsed": false
   },
   "outputs": [
    {
     "name": "stdout",
     "output_type": "stream",
     "text": [
      "Tests Passed\n"
     ]
    }
   ],
   "source": [
    "def fully_conn(x_tensor, num_outputs):\n",
    "    \"\"\"\n",
    "    Apply a fully connected layer to x_tensor using weight and bias\n",
    "    : x_tensor: A 2-D tensor where the first dimension is batch size.\n",
    "    : num_outputs: The number of output that the new tensor should be.\n",
    "    : return: A 2-D tensor where the second dimension is num_outputs.\n",
    "    \"\"\"\n",
    "    fully_con = tf.contrib.layers.fully_connected(x_tensor, num_outputs=num_outputs)\n",
    "    return fully_con\n",
    "\n",
    "\n",
    "\"\"\"\n",
    "DON'T MODIFY ANYTHING IN THIS CELL THAT IS BELOW THIS LINE\n",
    "\"\"\"\n",
    "tests.test_fully_conn(fully_conn)"
   ]
  },
  {
   "cell_type": "markdown",
   "metadata": {},
   "source": [
    "### Output Layer\n",
    "Implement the `output` function to apply a fully connected layer to `x_tensor` with the shape (*Batch Size*, *num_outputs*). Shortcut option: you can use classes from the [TensorFlow Layers](https://www.tensorflow.org/api_docs/python/tf/layers) or [TensorFlow Layers (contrib)](https://www.tensorflow.org/api_guides/python/contrib.layers) packages for this layer. For more of a challenge, only use other TensorFlow packages.\n",
    "\n",
    "**Note:** Activation, softmax, or cross entropy should **not** be applied to this."
   ]
  },
  {
   "cell_type": "code",
   "execution_count": 36,
   "metadata": {
    "collapsed": false
   },
   "outputs": [
    {
     "name": "stdout",
     "output_type": "stream",
     "text": [
      "Tests Passed\n"
     ]
    }
   ],
   "source": [
    "def output(x_tensor, num_outputs):\n",
    "    \"\"\"\n",
    "    Apply a output layer to x_tensor using weight and bias\n",
    "    : x_tensor: A 2-D tensor where the first dimension is batch size.\n",
    "    : num_outputs: The number of output that the new tensor should be.\n",
    "    : return: A 2-D tensor where the second dimension is num_outputs.\n",
    "    \"\"\"\n",
    "    \n",
    "    return tf.contrib.layers.fully_connected(x_tensor, num_outputs=num_outputs)\n",
    "\n",
    "\n",
    "\"\"\"\n",
    "DON'T MODIFY ANYTHING IN THIS CELL THAT IS BELOW THIS LINE\n",
    "\"\"\"\n",
    "tests.test_output(output)"
   ]
  },
  {
   "cell_type": "markdown",
   "metadata": {},
   "source": [
    "### Create Convolutional Model\n",
    "Implement the function `conv_net` to create a convolutional neural network model. The function takes in a batch of images, `x`, and outputs logits.  Use the layers you created above to create this model:\n",
    "\n",
    "* Apply 1, 2, or 3 Convolution and Max Pool layers\n",
    "* Apply a Flatten Layer\n",
    "* Apply 1, 2, or 3 Fully Connected Layers\n",
    "* Apply an Output Layer\n",
    "* Return the output\n",
    "* Apply [TensorFlow's Dropout](https://www.tensorflow.org/api_docs/python/tf/nn/dropout) to one or more layers in the model using `keep_prob`. "
   ]
  },
  {
   "cell_type": "code",
   "execution_count": 37,
   "metadata": {
    "collapsed": false
   },
   "outputs": [
    {
     "name": "stdout",
     "output_type": "stream",
     "text": [
      "Neural Network Built!\n"
     ]
    }
   ],
   "source": [
    "def conv_net(x, keep_prob):\n",
    "    \"\"\"\n",
    "    Create a convolutional neural network model\n",
    "    : x: Placeholder tensor that holds image data.\n",
    "    : keep_prob: Placeholder tensor that hold dropout keep probability.\n",
    "    : return: Tensor that represents logits\n",
    "    \"\"\"\n",
    "    # TODO: Apply 1, 2, or 3 Convolution and Max Pool layers\n",
    "    #    Play around with different number of outputs, kernel size and stride\n",
    "    # Function Definition from Above:\n",
    "    #    conv2d_maxpool(x_tensor, conv_num_outputs, conv_ksize, conv_strides, pool_ksize, pool_strides)\n",
    "    conv_nn = conv2d_maxpool(x, 16, (2, 2), (1, 1), (2, 2), (2, 2))\n",
    "    conv_nn = conv2d_maxpool(conv_nn, 32, (2, 2), (1, 1), (2, 2), (2, 2))\n",
    "    \n",
    "    # TODO: Apply a Flatten Layer\n",
    "    # Function Definition from Above:\n",
    "    #   flatten(x_tensor)\n",
    "    flat_nn = flatten(conv_nn)\n",
    "\n",
    "    # TODO: Apply 1, 2, or 3 Fully Connected Layers\n",
    "    #    Play around with different number of outputs\n",
    "    # Function Definition from Above:\n",
    "    #   fully_conn(x_tensor, num_outputs)\n",
    "    full = fully_conn(flat_nn, 2048)\n",
    "    full = tf.nn.dropout(full, keep_prob=keep_prob)\n",
    "    \n",
    "    # TODO: Apply an Output Layer\n",
    "    #    Set this to the number of classes\n",
    "    # Function Definition from Above:\n",
    "    #   output(x_tensor, num_outputs)\n",
    "    final = output(full, 10)\n",
    "    \n",
    "    # TODO: return output\n",
    "    return final\n",
    "\n",
    "\n",
    "\"\"\"\n",
    "DON'T MODIFY ANYTHING IN THIS CELL THAT IS BELOW THIS LINE\n",
    "\"\"\"\n",
    "\n",
    "##############################\n",
    "## Build the Neural Network ##\n",
    "##############################\n",
    "\n",
    "# Remove previous weights, bias, inputs, etc..\n",
    "tf.reset_default_graph()\n",
    "\n",
    "# Inputs\n",
    "x = neural_net_image_input((32, 32, 3))\n",
    "y = neural_net_label_input(10)\n",
    "keep_prob = neural_net_keep_prob_input()\n",
    "\n",
    "# Model\n",
    "logits = conv_net(x, keep_prob)\n",
    "\n",
    "# Name logits Tensor, so that is can be loaded from disk after training\n",
    "logits = tf.identity(logits, name='logits')\n",
    "\n",
    "# Loss and Optimizer\n",
    "cost = tf.reduce_mean(tf.nn.softmax_cross_entropy_with_logits(logits=logits, labels=y))\n",
    "optimizer = tf.train.AdamOptimizer().minimize(cost)\n",
    "\n",
    "# Accuracy\n",
    "correct_pred = tf.equal(tf.argmax(logits, 1), tf.argmax(y, 1))\n",
    "accuracy = tf.reduce_mean(tf.cast(correct_pred, tf.float32), name='accuracy')\n",
    "\n",
    "tests.test_conv_net(conv_net)"
   ]
  },
  {
   "cell_type": "markdown",
   "metadata": {},
   "source": [
    "## Train the Neural Network\n",
    "### Single Optimization\n",
    "Implement the function `train_neural_network` to do a single optimization.  The optimization should use `optimizer` to optimize in `session` with a `feed_dict` of the following:\n",
    "* `x` for image input\n",
    "* `y` for labels\n",
    "* `keep_prob` for keep probability for dropout\n",
    "\n",
    "This function will be called for each batch, so `tf.global_variables_initializer()` has already been called.\n",
    "\n",
    "Note: Nothing needs to be returned. This function is only optimizing the neural network."
   ]
  },
  {
   "cell_type": "code",
   "execution_count": 38,
   "metadata": {
    "collapsed": false
   },
   "outputs": [
    {
     "name": "stdout",
     "output_type": "stream",
     "text": [
      "Tests Passed\n"
     ]
    }
   ],
   "source": [
    "def train_neural_network(session, optimizer, keep_probability, feature_batch, label_batch):\n",
    "    \"\"\"\n",
    "    Optimize the session on a batch of images and labels\n",
    "    : session: Current TensorFlow session\n",
    "    : optimizer: TensorFlow optimizer function\n",
    "    : keep_probability: keep probability\n",
    "    : feature_batch: Batch of Numpy image data\n",
    "    : label_batch: Batch of Numpy label data\n",
    "    \"\"\"\n",
    "    session.run(optimizer, feed_dict={keep_prob: keep_probability, x: feature_batch, y: label_batch})\n",
    "    pass\n",
    "\n",
    "\n",
    "\"\"\"\n",
    "DON'T MODIFY ANYTHING IN THIS CELL THAT IS BELOW THIS LINE\n",
    "\"\"\"\n",
    "tests.test_train_nn(train_neural_network)"
   ]
  },
  {
   "cell_type": "markdown",
   "metadata": {},
   "source": [
    "### Show Stats\n",
    "Implement the function `print_stats` to print loss and validation accuracy.  Use the global variables `valid_features` and `valid_labels` to calculate validation accuracy.  Use a keep probability of `1.0` to calculate the loss and validation accuracy."
   ]
  },
  {
   "cell_type": "code",
   "execution_count": 42,
   "metadata": {
    "collapsed": true
   },
   "outputs": [],
   "source": [
    "def print_stats(session, feature_batch, label_batch, cost, accuracy):\n",
    "    \"\"\"\n",
    "    Print information about loss and validation accuracy\n",
    "    : session: Current TensorFlow session\n",
    "    : feature_batch: Batch of Numpy image data\n",
    "    : label_batch: Batch of Numpy label data\n",
    "    : cost: TensorFlow cost function\n",
    "    : accuracy: TensorFlow accuracy function\n",
    "    \"\"\"\n",
    "    cost = session.run(cost, feed_dict={x: feature_batch, y: label_batch, keep_prob: 1.0})\n",
    "    accuracy = session.run(accuracy, feed_dict={x: feature_batch, y: label_batch, keep_prob: 1.0})\n",
    "    \n",
    "    print(\"The cost is \" + str(cost) + \" and the accuracy is \" + str(round((accuracy * 100), 3)) + \"%.\")\n",
    "    pass"
   ]
  },
  {
   "cell_type": "markdown",
   "metadata": {},
   "source": [
    "### Hyperparameters\n",
    "Tune the following parameters:\n",
    "* Set `epochs` to the number of iterations until the network stops learning or start overfitting\n",
    "* Set `batch_size` to the highest number that your machine has memory for.  Most people set them to common sizes of memory:\n",
    " * 64\n",
    " * 128\n",
    " * 256\n",
    " * ...\n",
    "* Set `keep_probability` to the probability of keeping a node using dropout"
   ]
  },
  {
   "cell_type": "code",
   "execution_count": 43,
   "metadata": {
    "collapsed": true
   },
   "outputs": [],
   "source": [
    "# TODO: Tune Parameters\n",
    "epochs = 60\n",
    "batch_size = 1024\n",
    "keep_probability = 0.9"
   ]
  },
  {
   "cell_type": "markdown",
   "metadata": {},
   "source": [
    "### Train on a Single CIFAR-10 Batch\n",
    "Instead of training the neural network on all the CIFAR-10 batches of data, let's use a single batch. This should save time while you iterate on the model to get a better accuracy.  Once the final validation accuracy is 50% or greater, run the model on all the data in the next section."
   ]
  },
  {
   "cell_type": "code",
   "execution_count": 44,
   "metadata": {
    "collapsed": false
   },
   "outputs": [
    {
     "name": "stdout",
     "output_type": "stream",
     "text": [
      "Checking the Training on a Single Batch...\n",
      "Epoch  1, CIFAR-10 Batch 1:  The cost is 2.17271 and the accuracy is 25.743%.\n",
      "Epoch  2, CIFAR-10 Batch 1:  The cost is 2.06183 and the accuracy is 33.168%.\n",
      "Epoch  3, CIFAR-10 Batch 1:  The cost is 1.9651 and the accuracy is 35.767%.\n",
      "Epoch  4, CIFAR-10 Batch 1:  The cost is 1.89428 and the accuracy is 37.995%.\n",
      "Epoch  5, CIFAR-10 Batch 1:  The cost is 1.82276 and the accuracy is 41.213%.\n",
      "Epoch  6, CIFAR-10 Batch 1:  The cost is 1.77065 and the accuracy is 43.069%.\n",
      "Epoch  7, CIFAR-10 Batch 1:  The cost is 1.72038 and the accuracy is 44.431%.\n",
      "Epoch  8, CIFAR-10 Batch 1:  The cost is 1.6797 and the accuracy is 46.906%.\n",
      "Epoch  9, CIFAR-10 Batch 1:  The cost is 1.66237 and the accuracy is 47.277%.\n",
      "Epoch 10, CIFAR-10 Batch 1:  The cost is 1.62778 and the accuracy is 49.257%.\n",
      "Epoch 11, CIFAR-10 Batch 1:  The cost is 1.60882 and the accuracy is 49.134%.\n",
      "Epoch 12, CIFAR-10 Batch 1:  The cost is 1.58832 and the accuracy is 49.876%.\n",
      "Epoch 13, CIFAR-10 Batch 1:  The cost is 1.5428 and the accuracy is 52.475%.\n",
      "Epoch 14, CIFAR-10 Batch 1:  The cost is 1.51833 and the accuracy is 52.599%.\n",
      "Epoch 15, CIFAR-10 Batch 1:  The cost is 1.50109 and the accuracy is 53.094%.\n",
      "Epoch 16, CIFAR-10 Batch 1:  The cost is 1.48074 and the accuracy is 53.342%.\n",
      "Epoch 17, CIFAR-10 Batch 1:  The cost is 1.45901 and the accuracy is 54.332%.\n",
      "Epoch 18, CIFAR-10 Batch 1:  The cost is 1.44823 and the accuracy is 54.084%.\n",
      "Epoch 19, CIFAR-10 Batch 1:  The cost is 1.42746 and the accuracy is 55.198%.\n",
      "Epoch 20, CIFAR-10 Batch 1:  The cost is 1.44444 and the accuracy is 55.198%.\n",
      "Epoch 21, CIFAR-10 Batch 1:  The cost is 1.42786 and the accuracy is 55.941%.\n",
      "Epoch 22, CIFAR-10 Batch 1:  The cost is 1.39948 and the accuracy is 58.292%.\n",
      "Epoch 23, CIFAR-10 Batch 1:  The cost is 1.3729 and the accuracy is 57.673%.\n",
      "Epoch 24, CIFAR-10 Batch 1:  The cost is 1.36046 and the accuracy is 58.54%.\n",
      "Epoch 25, CIFAR-10 Batch 1:  The cost is 1.3427 and the accuracy is 59.158%.\n",
      "Epoch 26, CIFAR-10 Batch 1:  The cost is 1.326 and the accuracy is 59.777%.\n",
      "Epoch 27, CIFAR-10 Batch 1:  The cost is 1.30736 and the accuracy is 60.767%.\n",
      "Epoch 28, CIFAR-10 Batch 1:  The cost is 1.29502 and the accuracy is 61.139%.\n",
      "Epoch 29, CIFAR-10 Batch 1:  The cost is 1.28066 and the accuracy is 61.51%.\n",
      "Epoch 30, CIFAR-10 Batch 1:  The cost is 1.26562 and the accuracy is 62.5%.\n",
      "Epoch 31, CIFAR-10 Batch 1:  The cost is 1.28033 and the accuracy is 61.757%.\n",
      "Epoch 32, CIFAR-10 Batch 1:  The cost is 1.30637 and the accuracy is 59.653%.\n",
      "Epoch 33, CIFAR-10 Batch 1:  The cost is 1.25497 and the accuracy is 62.5%.\n",
      "Epoch 34, CIFAR-10 Batch 1:  The cost is 1.22311 and the accuracy is 63.119%.\n",
      "Epoch 35, CIFAR-10 Batch 1:  The cost is 1.20486 and the accuracy is 64.109%.\n",
      "Epoch 36, CIFAR-10 Batch 1:  The cost is 1.19062 and the accuracy is 64.728%.\n",
      "Epoch 37, CIFAR-10 Batch 1:  The cost is 1.17667 and the accuracy is 65.842%.\n",
      "Epoch 38, CIFAR-10 Batch 1:  The cost is 1.16656 and the accuracy is 65.47%.\n",
      "Epoch 39, CIFAR-10 Batch 1:  The cost is 1.15822 and the accuracy is 66.089%.\n",
      "Epoch 40, CIFAR-10 Batch 1:  The cost is 1.14261 and the accuracy is 66.213%.\n",
      "Epoch 41, CIFAR-10 Batch 1:  The cost is 1.13348 and the accuracy is 65.842%.\n",
      "Epoch 42, CIFAR-10 Batch 1:  The cost is 1.13319 and the accuracy is 66.46%.\n",
      "Epoch 43, CIFAR-10 Batch 1:  The cost is 1.14818 and the accuracy is 64.604%.\n",
      "Epoch 44, CIFAR-10 Batch 1:  The cost is 1.14472 and the accuracy is 65.099%.\n",
      "Epoch 45, CIFAR-10 Batch 1:  The cost is 1.1192 and the accuracy is 65.965%.\n",
      "Epoch 46, CIFAR-10 Batch 1:  The cost is 1.09703 and the accuracy is 66.584%.\n",
      "Epoch 47, CIFAR-10 Batch 1:  The cost is 1.08089 and the accuracy is 67.698%.\n",
      "Epoch 48, CIFAR-10 Batch 1:  The cost is 1.06418 and the accuracy is 67.946%.\n",
      "Epoch 49, CIFAR-10 Batch 1:  The cost is 1.05655 and the accuracy is 67.45%.\n",
      "Epoch 50, CIFAR-10 Batch 1:  The cost is 1.05174 and the accuracy is 67.946%.\n",
      "Epoch 51, CIFAR-10 Batch 1:  The cost is 1.04002 and the accuracy is 68.564%.\n",
      "Epoch 52, CIFAR-10 Batch 1:  The cost is 1.02999 and the accuracy is 68.069%.\n",
      "Epoch 53, CIFAR-10 Batch 1:  The cost is 1.01986 and the accuracy is 68.317%.\n",
      "Epoch 54, CIFAR-10 Batch 1:  The cost is 1.01039 and the accuracy is 68.936%.\n",
      "Epoch 55, CIFAR-10 Batch 1:  The cost is 1.00751 and the accuracy is 68.441%.\n",
      "Epoch 56, CIFAR-10 Batch 1:  The cost is 1.02506 and the accuracy is 68.193%.\n",
      "Epoch 57, CIFAR-10 Batch 1:  The cost is 1.02348 and the accuracy is 68.564%.\n",
      "Epoch 58, CIFAR-10 Batch 1:  The cost is 1.01562 and the accuracy is 68.193%.\n",
      "Epoch 59, CIFAR-10 Batch 1:  The cost is 1.05973 and the accuracy is 66.832%.\n",
      "Epoch 60, CIFAR-10 Batch 1:  The cost is 0.99149 and the accuracy is 68.936%.\n"
     ]
    }
   ],
   "source": [
    "\"\"\"\n",
    "DON'T MODIFY ANYTHING IN THIS CELL\n",
    "\"\"\"\n",
    "print('Checking the Training on a Single Batch...')\n",
    "with tf.Session() as sess:\n",
    "    # Initializing the variables\n",
    "    sess.run(tf.global_variables_initializer())\n",
    "    \n",
    "    # Training cycle\n",
    "    for epoch in range(epochs):\n",
    "        batch_i = 1\n",
    "        for batch_features, batch_labels in helper.load_preprocess_training_batch(batch_i, batch_size):\n",
    "            train_neural_network(sess, optimizer, keep_probability, batch_features, batch_labels)\n",
    "        print('Epoch {:>2}, CIFAR-10 Batch {}:  '.format(epoch + 1, batch_i), end='')\n",
    "        print_stats(sess, batch_features, batch_labels, cost, accuracy)"
   ]
  },
  {
   "cell_type": "markdown",
   "metadata": {},
   "source": [
    "### Fully Train the Model\n",
    "Now that you got a good accuracy with a single CIFAR-10 batch, try it with all five batches."
   ]
  },
  {
   "cell_type": "code",
   "execution_count": 45,
   "metadata": {
    "collapsed": false,
    "scrolled": false
   },
   "outputs": [
    {
     "name": "stdout",
     "output_type": "stream",
     "text": [
      "Training...\n",
      "Epoch  1, CIFAR-10 Batch 1:  The cost is 2.14358 and the accuracy is 27.228%.\n",
      "Epoch  1, CIFAR-10 Batch 2:  The cost is 1.93816 and the accuracy is 32.921%.\n",
      "Epoch  1, CIFAR-10 Batch 3:  The cost is 1.82642 and the accuracy is 38.366%.\n",
      "Epoch  1, CIFAR-10 Batch 4:  The cost is 1.74098 and the accuracy is 41.213%.\n",
      "Epoch  1, CIFAR-10 Batch 5:  The cost is 1.71576 and the accuracy is 42.822%.\n",
      "Epoch  2, CIFAR-10 Batch 1:  The cost is 1.65517 and the accuracy is 46.535%.\n",
      "Epoch  2, CIFAR-10 Batch 2:  The cost is 1.61029 and the accuracy is 47.153%.\n",
      "Epoch  2, CIFAR-10 Batch 3:  The cost is 1.55649 and the accuracy is 49.505%.\n",
      "Epoch  2, CIFAR-10 Batch 4:  The cost is 1.50202 and the accuracy is 49.752%.\n",
      "Epoch  2, CIFAR-10 Batch 5:  The cost is 1.50272 and the accuracy is 52.723%.\n",
      "Epoch  3, CIFAR-10 Batch 1:  The cost is 1.46121 and the accuracy is 52.475%.\n",
      "Epoch  3, CIFAR-10 Batch 2:  The cost is 1.44516 and the accuracy is 52.351%.\n",
      "Epoch  3, CIFAR-10 Batch 3:  The cost is 1.40114 and the accuracy is 53.837%.\n",
      "Epoch  3, CIFAR-10 Batch 4:  The cost is 1.35972 and the accuracy is 56.188%.\n",
      "Epoch  3, CIFAR-10 Batch 5:  The cost is 1.37157 and the accuracy is 57.426%.\n",
      "Epoch  4, CIFAR-10 Batch 1:  The cost is 1.35182 and the accuracy is 54.579%.\n",
      "Epoch  4, CIFAR-10 Batch 2:  The cost is 1.37079 and the accuracy is 54.579%.\n",
      "Epoch  4, CIFAR-10 Batch 3:  The cost is 1.29989 and the accuracy is 58.045%.\n",
      "Epoch  4, CIFAR-10 Batch 4:  The cost is 1.26836 and the accuracy is 57.921%.\n",
      "Epoch  4, CIFAR-10 Batch 5:  The cost is 1.27654 and the accuracy is 60.025%.\n",
      "Epoch  5, CIFAR-10 Batch 1:  The cost is 1.28941 and the accuracy is 57.054%.\n",
      "Epoch  5, CIFAR-10 Batch 2:  The cost is 1.29755 and the accuracy is 57.921%.\n",
      "Epoch  5, CIFAR-10 Batch 3:  The cost is 1.22154 and the accuracy is 61.139%.\n",
      "Epoch  5, CIFAR-10 Batch 4:  The cost is 1.20917 and the accuracy is 59.406%.\n",
      "Epoch  5, CIFAR-10 Batch 5:  The cost is 1.20775 and the accuracy is 62.871%.\n",
      "Epoch  6, CIFAR-10 Batch 1:  The cost is 1.22575 and the accuracy is 58.911%.\n",
      "Epoch  6, CIFAR-10 Batch 2:  The cost is 1.24275 and the accuracy is 60.52%.\n",
      "Epoch  6, CIFAR-10 Batch 3:  The cost is 1.16153 and the accuracy is 63.985%.\n",
      "Epoch  6, CIFAR-10 Batch 4:  The cost is 1.16762 and the accuracy is 60.52%.\n",
      "Epoch  6, CIFAR-10 Batch 5:  The cost is 1.15777 and the accuracy is 64.356%.\n",
      "Epoch  7, CIFAR-10 Batch 1:  The cost is 1.18898 and the accuracy is 59.406%.\n",
      "Epoch  7, CIFAR-10 Batch 2:  The cost is 1.18656 and the accuracy is 61.757%.\n",
      "Epoch  7, CIFAR-10 Batch 3:  The cost is 1.11946 and the accuracy is 64.728%.\n",
      "Epoch  7, CIFAR-10 Batch 4:  The cost is 1.11884 and the accuracy is 64.109%.\n",
      "Epoch  7, CIFAR-10 Batch 5:  The cost is 1.12215 and the accuracy is 65.47%.\n",
      "Epoch  8, CIFAR-10 Batch 1:  The cost is 1.13819 and the accuracy is 62.005%.\n",
      "Epoch  8, CIFAR-10 Batch 2:  The cost is 1.14844 and the accuracy is 62.995%.\n",
      "Epoch  8, CIFAR-10 Batch 3:  The cost is 1.08116 and the accuracy is 66.708%.\n",
      "Epoch  8, CIFAR-10 Batch 4:  The cost is 1.09301 and the accuracy is 64.851%.\n",
      "Epoch  8, CIFAR-10 Batch 5:  The cost is 1.08402 and the accuracy is 67.079%.\n",
      "Epoch  9, CIFAR-10 Batch 1:  The cost is 1.10593 and the accuracy is 63.861%.\n",
      "Epoch  9, CIFAR-10 Batch 2:  The cost is 1.11708 and the accuracy is 63.985%.\n",
      "Epoch  9, CIFAR-10 Batch 3:  The cost is 1.05168 and the accuracy is 67.822%.\n",
      "Epoch  9, CIFAR-10 Batch 4:  The cost is 1.07189 and the accuracy is 65.099%.\n",
      "Epoch  9, CIFAR-10 Batch 5:  The cost is 1.05328 and the accuracy is 68.564%.\n",
      "Epoch 10, CIFAR-10 Batch 1:  The cost is 1.07151 and the accuracy is 65.842%.\n",
      "Epoch 10, CIFAR-10 Batch 2:  The cost is 1.0921 and the accuracy is 65.347%.\n",
      "Epoch 10, CIFAR-10 Batch 3:  The cost is 1.03083 and the accuracy is 68.317%.\n",
      "Epoch 10, CIFAR-10 Batch 4:  The cost is 1.04862 and the accuracy is 66.46%.\n",
      "Epoch 10, CIFAR-10 Batch 5:  The cost is 1.0168 and the accuracy is 70.297%.\n",
      "Epoch 11, CIFAR-10 Batch 1:  The cost is 1.04711 and the accuracy is 66.832%.\n",
      "Epoch 11, CIFAR-10 Batch 2:  The cost is 1.05011 and the accuracy is 66.337%.\n",
      "Epoch 11, CIFAR-10 Batch 3:  The cost is 0.997136 and the accuracy is 67.698%.\n",
      "Epoch 11, CIFAR-10 Batch 4:  The cost is 1.0039 and the accuracy is 68.688%.\n",
      "Epoch 11, CIFAR-10 Batch 5:  The cost is 0.991318 and the accuracy is 70.668%.\n",
      "Epoch 12, CIFAR-10 Batch 1:  The cost is 1.02067 and the accuracy is 67.946%.\n",
      "Epoch 12, CIFAR-10 Batch 2:  The cost is 1.02017 and the accuracy is 67.698%.\n",
      "Epoch 12, CIFAR-10 Batch 3:  The cost is 0.970942 and the accuracy is 69.678%.\n",
      "Epoch 12, CIFAR-10 Batch 4:  The cost is 0.981302 and the accuracy is 68.564%.\n",
      "Epoch 12, CIFAR-10 Batch 5:  The cost is 0.961126 and the accuracy is 72.03%.\n",
      "Epoch 13, CIFAR-10 Batch 1:  The cost is 0.992244 and the accuracy is 68.564%.\n",
      "Epoch 13, CIFAR-10 Batch 2:  The cost is 0.992083 and the accuracy is 68.812%.\n",
      "Epoch 13, CIFAR-10 Batch 3:  The cost is 0.950278 and the accuracy is 70.668%.\n",
      "Epoch 13, CIFAR-10 Batch 4:  The cost is 0.959174 and the accuracy is 69.307%.\n",
      "Epoch 13, CIFAR-10 Batch 5:  The cost is 0.9327 and the accuracy is 72.649%.\n",
      "Epoch 14, CIFAR-10 Batch 1:  The cost is 0.963867 and the accuracy is 70.545%.\n",
      "Epoch 14, CIFAR-10 Batch 2:  The cost is 0.969437 and the accuracy is 68.688%.\n",
      "Epoch 14, CIFAR-10 Batch 3:  The cost is 0.929137 and the accuracy is 71.906%.\n",
      "Epoch 14, CIFAR-10 Batch 4:  The cost is 0.934332 and the accuracy is 70.173%.\n",
      "Epoch 14, CIFAR-10 Batch 5:  The cost is 0.909004 and the accuracy is 72.525%.\n",
      "Epoch 15, CIFAR-10 Batch 1:  The cost is 0.944865 and the accuracy is 70.792%.\n",
      "Epoch 15, CIFAR-10 Batch 2:  The cost is 0.949734 and the accuracy is 70.05%.\n",
      "Epoch 15, CIFAR-10 Batch 3:  The cost is 0.902924 and the accuracy is 72.153%.\n",
      "Epoch 15, CIFAR-10 Batch 4:  The cost is 0.911627 and the accuracy is 70.916%.\n",
      "Epoch 15, CIFAR-10 Batch 5:  The cost is 0.890299 and the accuracy is 73.144%.\n",
      "Epoch 16, CIFAR-10 Batch 1:  The cost is 0.922887 and the accuracy is 71.782%.\n",
      "Epoch 16, CIFAR-10 Batch 2:  The cost is 0.928001 and the accuracy is 70.792%.\n",
      "Epoch 16, CIFAR-10 Batch 3:  The cost is 0.87283 and the accuracy is 73.762%.\n",
      "Epoch 16, CIFAR-10 Batch 4:  The cost is 0.887873 and the accuracy is 71.287%.\n",
      "Epoch 16, CIFAR-10 Batch 5:  The cost is 0.874095 and the accuracy is 73.144%.\n",
      "Epoch 17, CIFAR-10 Batch 1:  The cost is 0.903072 and the accuracy is 72.153%.\n",
      "Epoch 17, CIFAR-10 Batch 2:  The cost is 0.901818 and the accuracy is 71.411%.\n",
      "Epoch 17, CIFAR-10 Batch 3:  The cost is 0.85048 and the accuracy is 73.886%.\n",
      "Epoch 17, CIFAR-10 Batch 4:  The cost is 0.868974 and the accuracy is 72.277%.\n",
      "Epoch 17, CIFAR-10 Batch 5:  The cost is 0.856019 and the accuracy is 73.515%.\n",
      "Epoch 18, CIFAR-10 Batch 1:  The cost is 0.881745 and the accuracy is 72.649%.\n",
      "Epoch 18, CIFAR-10 Batch 2:  The cost is 0.877417 and the accuracy is 72.03%.\n",
      "Epoch 18, CIFAR-10 Batch 3:  The cost is 0.823846 and the accuracy is 74.752%.\n",
      "Epoch 18, CIFAR-10 Batch 4:  The cost is 0.843307 and the accuracy is 72.896%.\n",
      "Epoch 18, CIFAR-10 Batch 5:  The cost is 0.828669 and the accuracy is 75.248%.\n",
      "Epoch 19, CIFAR-10 Batch 1:  The cost is 0.851255 and the accuracy is 73.886%.\n",
      "Epoch 19, CIFAR-10 Batch 2:  The cost is 0.847775 and the accuracy is 72.772%.\n",
      "Epoch 19, CIFAR-10 Batch 3:  The cost is 0.799446 and the accuracy is 75.99%.\n",
      "Epoch 19, CIFAR-10 Batch 4:  The cost is 0.814115 and the accuracy is 74.505%.\n",
      "Epoch 19, CIFAR-10 Batch 5:  The cost is 0.796702 and the accuracy is 75.619%.\n",
      "Epoch 20, CIFAR-10 Batch 1:  The cost is 0.823341 and the accuracy is 74.876%.\n",
      "Epoch 20, CIFAR-10 Batch 2:  The cost is 0.821335 and the accuracy is 74.752%.\n",
      "Epoch 20, CIFAR-10 Batch 3:  The cost is 0.77509 and the accuracy is 76.856%.\n",
      "Epoch 20, CIFAR-10 Batch 4:  The cost is 0.785653 and the accuracy is 75.743%.\n",
      "Epoch 20, CIFAR-10 Batch 5:  The cost is 0.761949 and the accuracy is 76.485%.\n",
      "Epoch 21, CIFAR-10 Batch 1:  The cost is 0.798565 and the accuracy is 76.733%.\n",
      "Epoch 21, CIFAR-10 Batch 2:  The cost is 0.796671 and the accuracy is 75.0%.\n",
      "Epoch 21, CIFAR-10 Batch 3:  The cost is 0.749596 and the accuracy is 77.599%.\n",
      "Epoch 21, CIFAR-10 Batch 4:  The cost is 0.763578 and the accuracy is 76.114%.\n",
      "Epoch 21, CIFAR-10 Batch 5:  The cost is 0.737101 and the accuracy is 77.475%.\n",
      "Epoch 22, CIFAR-10 Batch 1:  The cost is 0.77295 and the accuracy is 76.856%.\n",
      "Epoch 22, CIFAR-10 Batch 2:  The cost is 0.771972 and the accuracy is 76.114%.\n",
      "Epoch 22, CIFAR-10 Batch 3:  The cost is 0.723691 and the accuracy is 78.589%.\n",
      "Epoch 22, CIFAR-10 Batch 4:  The cost is 0.742902 and the accuracy is 76.733%.\n",
      "Epoch 22, CIFAR-10 Batch 5:  The cost is 0.714329 and the accuracy is 78.589%.\n",
      "Epoch 23, CIFAR-10 Batch 1:  The cost is 0.747554 and the accuracy is 77.847%.\n",
      "Epoch 23, CIFAR-10 Batch 2:  The cost is 0.756647 and the accuracy is 76.733%.\n",
      "Epoch 23, CIFAR-10 Batch 3:  The cost is 0.704571 and the accuracy is 78.96%.\n",
      "Epoch 23, CIFAR-10 Batch 4:  The cost is 0.722739 and the accuracy is 77.847%.\n",
      "Epoch 23, CIFAR-10 Batch 5:  The cost is 0.68722 and the accuracy is 79.703%.\n",
      "Epoch 24, CIFAR-10 Batch 1:  The cost is 0.723344 and the accuracy is 78.589%.\n",
      "Epoch 24, CIFAR-10 Batch 2:  The cost is 0.750546 and the accuracy is 76.609%.\n",
      "Epoch 24, CIFAR-10 Batch 3:  The cost is 0.698428 and the accuracy is 78.342%.\n",
      "Epoch 24, CIFAR-10 Batch 4:  The cost is 0.697351 and the accuracy is 78.465%.\n",
      "Epoch 24, CIFAR-10 Batch 5:  The cost is 0.662792 and the accuracy is 80.693%.\n",
      "Epoch 25, CIFAR-10 Batch 1:  The cost is 0.718871 and the accuracy is 78.218%.\n",
      "Epoch 25, CIFAR-10 Batch 2:  The cost is 0.776158 and the accuracy is 76.856%.\n",
      "Epoch 25, CIFAR-10 Batch 3:  The cost is 0.671793 and the accuracy is 79.332%.\n",
      "Epoch 25, CIFAR-10 Batch 4:  The cost is 0.721913 and the accuracy is 77.475%.\n",
      "Epoch 25, CIFAR-10 Batch 5:  The cost is 0.705334 and the accuracy is 78.837%.\n",
      "Epoch 26, CIFAR-10 Batch 1:  The cost is 0.731788 and the accuracy is 77.475%.\n",
      "Epoch 26, CIFAR-10 Batch 2:  The cost is 0.749134 and the accuracy is 76.856%.\n",
      "Epoch 26, CIFAR-10 Batch 3:  The cost is 0.710765 and the accuracy is 77.723%.\n",
      "Epoch 26, CIFAR-10 Batch 4:  The cost is 0.729494 and the accuracy is 76.609%.\n",
      "Epoch 26, CIFAR-10 Batch 5:  The cost is 0.705092 and the accuracy is 77.97%.\n",
      "Epoch 27, CIFAR-10 Batch 1:  The cost is 0.715879 and the accuracy is 78.465%.\n",
      "Epoch 27, CIFAR-10 Batch 2:  The cost is 0.71507 and the accuracy is 78.589%.\n",
      "Epoch 27, CIFAR-10 Batch 3:  The cost is 0.698766 and the accuracy is 77.228%.\n",
      "Epoch 27, CIFAR-10 Batch 4:  The cost is 0.672989 and the accuracy is 80.322%.\n",
      "Epoch 27, CIFAR-10 Batch 5:  The cost is 0.654099 and the accuracy is 79.208%.\n",
      "Epoch 28, CIFAR-10 Batch 1:  The cost is 0.681411 and the accuracy is 79.084%.\n",
      "Epoch 28, CIFAR-10 Batch 2:  The cost is 0.718823 and the accuracy is 78.837%.\n",
      "Epoch 28, CIFAR-10 Batch 3:  The cost is 0.630268 and the accuracy is 79.95%.\n",
      "Epoch 28, CIFAR-10 Batch 4:  The cost is 0.647176 and the accuracy is 79.703%.\n",
      "Epoch 28, CIFAR-10 Batch 5:  The cost is 0.639466 and the accuracy is 79.827%.\n",
      "Epoch 29, CIFAR-10 Batch 1:  The cost is 0.660036 and the accuracy is 79.827%.\n",
      "Epoch 29, CIFAR-10 Batch 2:  The cost is 0.674445 and the accuracy is 80.198%.\n",
      "Epoch 29, CIFAR-10 Batch 3:  The cost is 0.626583 and the accuracy is 79.827%.\n",
      "Epoch 29, CIFAR-10 Batch 4:  The cost is 0.621252 and the accuracy is 81.559%.\n",
      "Epoch 29, CIFAR-10 Batch 5:  The cost is 0.592452 and the accuracy is 82.178%.\n",
      "Epoch 30, CIFAR-10 Batch 1:  The cost is 0.633101 and the accuracy is 81.559%.\n",
      "Epoch 30, CIFAR-10 Batch 2:  The cost is 0.658824 and the accuracy is 80.693%.\n",
      "Epoch 30, CIFAR-10 Batch 3:  The cost is 0.608389 and the accuracy is 80.817%.\n",
      "Epoch 30, CIFAR-10 Batch 4:  The cost is 0.600587 and the accuracy is 81.683%.\n",
      "Epoch 30, CIFAR-10 Batch 5:  The cost is 0.595344 and the accuracy is 82.673%.\n",
      "Epoch 31, CIFAR-10 Batch 1:  The cost is 0.638551 and the accuracy is 81.064%.\n",
      "Epoch 31, CIFAR-10 Batch 2:  The cost is 0.654612 and the accuracy is 80.074%.\n",
      "Epoch 31, CIFAR-10 Batch 3:  The cost is 0.567773 and the accuracy is 82.426%.\n",
      "Epoch 31, CIFAR-10 Batch 4:  The cost is 0.603541 and the accuracy is 81.683%.\n",
      "Epoch 31, CIFAR-10 Batch 5:  The cost is 0.583916 and the accuracy is 82.797%.\n",
      "Epoch 32, CIFAR-10 Batch 1:  The cost is 0.611506 and the accuracy is 81.312%.\n",
      "Epoch 32, CIFAR-10 Batch 2:  The cost is 0.622655 and the accuracy is 82.178%.\n",
      "Epoch 32, CIFAR-10 Batch 3:  The cost is 0.554266 and the accuracy is 83.168%.\n",
      "Epoch 32, CIFAR-10 Batch 4:  The cost is 0.573028 and the accuracy is 81.559%.\n",
      "Epoch 32, CIFAR-10 Batch 5:  The cost is 0.541999 and the accuracy is 84.158%.\n",
      "Epoch 33, CIFAR-10 Batch 1:  The cost is 0.589719 and the accuracy is 81.559%.\n",
      "Epoch 33, CIFAR-10 Batch 2:  The cost is 0.59808 and the accuracy is 82.673%.\n",
      "Epoch 33, CIFAR-10 Batch 3:  The cost is 0.534703 and the accuracy is 84.035%.\n",
      "Epoch 33, CIFAR-10 Batch 4:  The cost is 0.549223 and the accuracy is 82.797%.\n",
      "Epoch 33, CIFAR-10 Batch 5:  The cost is 0.522488 and the accuracy is 84.901%.\n",
      "Epoch 34, CIFAR-10 Batch 1:  The cost is 0.555769 and the accuracy is 83.292%.\n",
      "Epoch 34, CIFAR-10 Batch 2:  The cost is 0.569618 and the accuracy is 83.292%.\n",
      "Epoch 34, CIFAR-10 Batch 3:  The cost is 0.504619 and the accuracy is 85.272%.\n",
      "Epoch 34, CIFAR-10 Batch 4:  The cost is 0.531205 and the accuracy is 83.663%.\n",
      "Epoch 34, CIFAR-10 Batch 5:  The cost is 0.509282 and the accuracy is 85.025%.\n",
      "Epoch 35, CIFAR-10 Batch 1:  The cost is 0.551195 and the accuracy is 83.168%.\n",
      "Epoch 35, CIFAR-10 Batch 2:  The cost is 0.553264 and the accuracy is 83.663%.\n",
      "Epoch 35, CIFAR-10 Batch 3:  The cost is 0.488731 and the accuracy is 86.015%.\n",
      "Epoch 35, CIFAR-10 Batch 4:  The cost is 0.519446 and the accuracy is 83.54%.\n",
      "Epoch 35, CIFAR-10 Batch 5:  The cost is 0.497864 and the accuracy is 85.149%.\n",
      "Epoch 36, CIFAR-10 Batch 1:  The cost is 0.539529 and the accuracy is 83.292%.\n",
      "Epoch 36, CIFAR-10 Batch 2:  The cost is 0.528653 and the accuracy is 84.777%.\n",
      "Epoch 36, CIFAR-10 Batch 3:  The cost is 0.49064 and the accuracy is 86.015%.\n",
      "Epoch 36, CIFAR-10 Batch 4:  The cost is 0.538694 and the accuracy is 83.292%.\n",
      "Epoch 36, CIFAR-10 Batch 5:  The cost is 0.492431 and the accuracy is 85.891%.\n",
      "Epoch 37, CIFAR-10 Batch 1:  The cost is 0.520544 and the accuracy is 84.53%.\n",
      "Epoch 37, CIFAR-10 Batch 2:  The cost is 0.538932 and the accuracy is 84.653%.\n",
      "Epoch 37, CIFAR-10 Batch 3:  The cost is 0.519134 and the accuracy is 84.158%.\n",
      "Epoch 37, CIFAR-10 Batch 4:  The cost is 0.500327 and the accuracy is 85.149%.\n",
      "Epoch 37, CIFAR-10 Batch 5:  The cost is 0.559325 and the accuracy is 82.426%.\n",
      "Epoch 38, CIFAR-10 Batch 1:  The cost is 0.553063 and the accuracy is 83.416%.\n",
      "Epoch 38, CIFAR-10 Batch 2:  The cost is 0.553253 and the accuracy is 83.168%.\n",
      "Epoch 38, CIFAR-10 Batch 3:  The cost is 0.538766 and the accuracy is 82.797%.\n",
      "Epoch 38, CIFAR-10 Batch 4:  The cost is 0.508111 and the accuracy is 84.53%.\n",
      "Epoch 38, CIFAR-10 Batch 5:  The cost is 0.532315 and the accuracy is 83.787%.\n",
      "Epoch 39, CIFAR-10 Batch 1:  The cost is 0.521583 and the accuracy is 84.035%.\n",
      "Epoch 39, CIFAR-10 Batch 2:  The cost is 0.507169 and the accuracy is 84.653%.\n",
      "Epoch 39, CIFAR-10 Batch 3:  The cost is 0.484305 and the accuracy is 85.767%.\n",
      "Epoch 39, CIFAR-10 Batch 4:  The cost is 0.498625 and the accuracy is 84.777%.\n",
      "Epoch 39, CIFAR-10 Batch 5:  The cost is 0.508088 and the accuracy is 84.282%.\n",
      "Epoch 40, CIFAR-10 Batch 1:  The cost is 0.504721 and the accuracy is 85.025%.\n",
      "Epoch 40, CIFAR-10 Batch 2:  The cost is 0.481647 and the accuracy is 85.767%.\n",
      "Epoch 40, CIFAR-10 Batch 3:  The cost is 0.47443 and the accuracy is 85.891%.\n",
      "Epoch 40, CIFAR-10 Batch 4:  The cost is 0.48795 and the accuracy is 85.272%.\n",
      "Epoch 40, CIFAR-10 Batch 5:  The cost is 0.497389 and the accuracy is 84.282%.\n",
      "Epoch 41, CIFAR-10 Batch 1:  The cost is 0.487555 and the accuracy is 85.025%.\n",
      "Epoch 41, CIFAR-10 Batch 2:  The cost is 0.514651 and the accuracy is 83.54%.\n",
      "Epoch 41, CIFAR-10 Batch 3:  The cost is 0.458953 and the accuracy is 85.767%.\n",
      "Epoch 41, CIFAR-10 Batch 4:  The cost is 0.486495 and the accuracy is 85.149%.\n",
      "Epoch 41, CIFAR-10 Batch 5:  The cost is 0.451871 and the accuracy is 86.634%.\n",
      "Epoch 42, CIFAR-10 Batch 1:  The cost is 0.474952 and the accuracy is 85.149%.\n",
      "Epoch 42, CIFAR-10 Batch 2:  The cost is 0.497297 and the accuracy is 84.282%.\n",
      "Epoch 42, CIFAR-10 Batch 3:  The cost is 0.461487 and the accuracy is 85.644%.\n",
      "Epoch 42, CIFAR-10 Batch 4:  The cost is 0.454462 and the accuracy is 86.015%.\n",
      "Epoch 42, CIFAR-10 Batch 5:  The cost is 0.444222 and the accuracy is 86.386%.\n",
      "Epoch 43, CIFAR-10 Batch 1:  The cost is 0.486643 and the accuracy is 83.663%.\n",
      "Epoch 43, CIFAR-10 Batch 2:  The cost is 0.484835 and the accuracy is 84.901%.\n",
      "Epoch 43, CIFAR-10 Batch 3:  The cost is 0.465438 and the accuracy is 84.901%.\n",
      "Epoch 43, CIFAR-10 Batch 4:  The cost is 0.440426 and the accuracy is 87.252%.\n",
      "Epoch 43, CIFAR-10 Batch 5:  The cost is 0.470036 and the accuracy is 85.272%.\n",
      "Epoch 44, CIFAR-10 Batch 1:  The cost is 0.447395 and the accuracy is 85.891%.\n",
      "Epoch 44, CIFAR-10 Batch 2:  The cost is 0.465566 and the accuracy is 86.139%.\n",
      "Epoch 44, CIFAR-10 Batch 3:  The cost is 0.41753 and the accuracy is 86.881%.\n",
      "Epoch 44, CIFAR-10 Batch 4:  The cost is 0.385587 and the accuracy is 88.738%.\n",
      "Epoch 44, CIFAR-10 Batch 5:  The cost is 0.413167 and the accuracy is 87.005%.\n",
      "Epoch 45, CIFAR-10 Batch 1:  The cost is 0.444328 and the accuracy is 85.891%.\n",
      "Epoch 45, CIFAR-10 Batch 2:  The cost is 0.476591 and the accuracy is 84.901%.\n",
      "Epoch 45, CIFAR-10 Batch 3:  The cost is 0.419419 and the accuracy is 86.51%.\n",
      "Epoch 45, CIFAR-10 Batch 4:  The cost is 0.391501 and the accuracy is 88.243%.\n",
      "Epoch 45, CIFAR-10 Batch 5:  The cost is 0.40986 and the accuracy is 86.881%.\n",
      "Epoch 46, CIFAR-10 Batch 1:  The cost is 0.421971 and the accuracy is 86.757%.\n",
      "Epoch 46, CIFAR-10 Batch 2:  The cost is 0.46236 and the accuracy is 85.272%.\n",
      "Epoch 46, CIFAR-10 Batch 3:  The cost is 0.397541 and the accuracy is 87.005%.\n",
      "Epoch 46, CIFAR-10 Batch 4:  The cost is 0.376562 and the accuracy is 87.995%.\n",
      "Epoch 46, CIFAR-10 Batch 5:  The cost is 0.402508 and the accuracy is 86.881%.\n",
      "Epoch 47, CIFAR-10 Batch 1:  The cost is 0.412535 and the accuracy is 87.129%.\n",
      "Epoch 47, CIFAR-10 Batch 2:  The cost is 0.458304 and the accuracy is 86.015%.\n",
      "Epoch 47, CIFAR-10 Batch 3:  The cost is 0.376907 and the accuracy is 88.119%.\n",
      "Epoch 47, CIFAR-10 Batch 4:  The cost is 0.383027 and the accuracy is 88.119%.\n",
      "Epoch 47, CIFAR-10 Batch 5:  The cost is 0.387902 and the accuracy is 87.376%.\n",
      "Epoch 48, CIFAR-10 Batch 1:  The cost is 0.398138 and the accuracy is 87.252%.\n",
      "Epoch 48, CIFAR-10 Batch 2:  The cost is 0.422494 and the accuracy is 86.51%.\n",
      "Epoch 48, CIFAR-10 Batch 3:  The cost is 0.36887 and the accuracy is 88.119%.\n",
      "Epoch 48, CIFAR-10 Batch 4:  The cost is 0.402505 and the accuracy is 86.634%.\n",
      "Epoch 48, CIFAR-10 Batch 5:  The cost is 0.393123 and the accuracy is 87.5%.\n",
      "Epoch 49, CIFAR-10 Batch 1:  The cost is 0.409627 and the accuracy is 86.757%.\n",
      "Epoch 49, CIFAR-10 Batch 2:  The cost is 0.414023 and the accuracy is 86.757%.\n",
      "Epoch 49, CIFAR-10 Batch 3:  The cost is 0.390186 and the accuracy is 87.995%.\n",
      "Epoch 49, CIFAR-10 Batch 4:  The cost is 0.42309 and the accuracy is 86.262%.\n",
      "Epoch 49, CIFAR-10 Batch 5:  The cost is 0.435878 and the accuracy is 86.139%.\n",
      "Epoch 50, CIFAR-10 Batch 1:  The cost is 0.414417 and the accuracy is 86.881%.\n",
      "Epoch 50, CIFAR-10 Batch 2:  The cost is 0.395958 and the accuracy is 87.252%.\n",
      "Epoch 50, CIFAR-10 Batch 3:  The cost is 0.366988 and the accuracy is 88.49%.\n",
      "Epoch 50, CIFAR-10 Batch 4:  The cost is 0.343274 and the accuracy is 88.985%.\n",
      "Epoch 50, CIFAR-10 Batch 5:  The cost is 0.381108 and the accuracy is 87.748%.\n",
      "Epoch 51, CIFAR-10 Batch 1:  The cost is 0.387956 and the accuracy is 86.881%.\n",
      "Epoch 51, CIFAR-10 Batch 2:  The cost is 0.38044 and the accuracy is 87.5%.\n",
      "Epoch 51, CIFAR-10 Batch 3:  The cost is 0.384778 and the accuracy is 87.871%.\n",
      "Epoch 51, CIFAR-10 Batch 4:  The cost is 0.363155 and the accuracy is 88.49%.\n",
      "Epoch 51, CIFAR-10 Batch 5:  The cost is 0.366149 and the accuracy is 87.995%.\n",
      "Epoch 52, CIFAR-10 Batch 1:  The cost is 0.394034 and the accuracy is 86.634%.\n",
      "Epoch 52, CIFAR-10 Batch 2:  The cost is 0.378034 and the accuracy is 87.748%.\n",
      "Epoch 52, CIFAR-10 Batch 3:  The cost is 0.341986 and the accuracy is 88.738%.\n",
      "Epoch 52, CIFAR-10 Batch 4:  The cost is 0.399282 and the accuracy is 87.129%.\n",
      "Epoch 52, CIFAR-10 Batch 5:  The cost is 0.388091 and the accuracy is 86.881%.\n",
      "Epoch 53, CIFAR-10 Batch 1:  The cost is 0.392258 and the accuracy is 87.376%.\n",
      "Epoch 53, CIFAR-10 Batch 2:  The cost is 0.371325 and the accuracy is 87.995%.\n",
      "Epoch 53, CIFAR-10 Batch 3:  The cost is 0.334423 and the accuracy is 88.985%.\n",
      "Epoch 53, CIFAR-10 Batch 4:  The cost is 0.365323 and the accuracy is 87.995%.\n",
      "Epoch 53, CIFAR-10 Batch 5:  The cost is 0.394453 and the accuracy is 86.757%.\n",
      "Epoch 54, CIFAR-10 Batch 1:  The cost is 0.389726 and the accuracy is 87.129%.\n",
      "Epoch 54, CIFAR-10 Batch 2:  The cost is 0.362139 and the accuracy is 87.995%.\n",
      "Epoch 54, CIFAR-10 Batch 3:  The cost is 0.329999 and the accuracy is 89.109%.\n",
      "Epoch 54, CIFAR-10 Batch 4:  The cost is 0.338745 and the accuracy is 88.861%.\n",
      "Epoch 54, CIFAR-10 Batch 5:  The cost is 0.387712 and the accuracy is 87.005%.\n",
      "Epoch 55, CIFAR-10 Batch 1:  The cost is 0.379191 and the accuracy is 87.252%.\n",
      "Epoch 55, CIFAR-10 Batch 2:  The cost is 0.36007 and the accuracy is 88.119%.\n",
      "Epoch 55, CIFAR-10 Batch 3:  The cost is 0.339517 and the accuracy is 88.985%.\n",
      "Epoch 55, CIFAR-10 Batch 4:  The cost is 0.336813 and the accuracy is 89.356%.\n",
      "Epoch 55, CIFAR-10 Batch 5:  The cost is 0.376952 and the accuracy is 87.129%.\n",
      "Epoch 56, CIFAR-10 Batch 1:  The cost is 0.364726 and the accuracy is 87.624%.\n",
      "Epoch 56, CIFAR-10 Batch 2:  The cost is 0.361874 and the accuracy is 87.871%.\n",
      "Epoch 56, CIFAR-10 Batch 3:  The cost is 0.354054 and the accuracy is 88.614%.\n",
      "Epoch 56, CIFAR-10 Batch 4:  The cost is 0.348341 and the accuracy is 89.109%.\n",
      "Epoch 56, CIFAR-10 Batch 5:  The cost is 0.378773 and the accuracy is 87.129%.\n",
      "Epoch 57, CIFAR-10 Batch 1:  The cost is 0.356024 and the accuracy is 87.871%.\n",
      "Epoch 57, CIFAR-10 Batch 2:  The cost is 0.370555 and the accuracy is 87.5%.\n",
      "Epoch 57, CIFAR-10 Batch 3:  The cost is 0.362117 and the accuracy is 88.614%.\n",
      "Epoch 57, CIFAR-10 Batch 4:  The cost is 0.359767 and the accuracy is 88.49%.\n",
      "Epoch 57, CIFAR-10 Batch 5:  The cost is 0.365505 and the accuracy is 87.624%.\n",
      "Epoch 58, CIFAR-10 Batch 1:  The cost is 0.361173 and the accuracy is 87.5%.\n",
      "Epoch 58, CIFAR-10 Batch 2:  The cost is 0.372494 and the accuracy is 87.624%.\n",
      "Epoch 58, CIFAR-10 Batch 3:  The cost is 0.335559 and the accuracy is 89.356%.\n",
      "Epoch 58, CIFAR-10 Batch 4:  The cost is 0.337498 and the accuracy is 88.985%.\n",
      "Epoch 58, CIFAR-10 Batch 5:  The cost is 0.349965 and the accuracy is 88.119%.\n",
      "Epoch 59, CIFAR-10 Batch 1:  The cost is 0.383146 and the accuracy is 86.634%.\n",
      "Epoch 59, CIFAR-10 Batch 2:  The cost is 0.355238 and the accuracy is 87.995%.\n",
      "Epoch 59, CIFAR-10 Batch 3:  The cost is 0.348843 and the accuracy is 88.49%.\n",
      "Epoch 59, CIFAR-10 Batch 4:  The cost is 0.363529 and the accuracy is 88.49%.\n",
      "Epoch 59, CIFAR-10 Batch 5:  The cost is 0.371206 and the accuracy is 87.252%.\n",
      "Epoch 60, CIFAR-10 Batch 1:  The cost is 0.379057 and the accuracy is 86.881%.\n",
      "Epoch 60, CIFAR-10 Batch 2:  The cost is 0.394101 and the accuracy is 86.757%.\n",
      "Epoch 60, CIFAR-10 Batch 3:  The cost is 0.386568 and the accuracy is 88.243%.\n",
      "Epoch 60, CIFAR-10 Batch 4:  The cost is 0.34637 and the accuracy is 88.243%.\n",
      "Epoch 60, CIFAR-10 Batch 5:  The cost is 0.354707 and the accuracy is 87.624%.\n"
     ]
    }
   ],
   "source": [
    "\"\"\"\n",
    "DON'T MODIFY ANYTHING IN THIS CELL\n",
    "\"\"\"\n",
    "save_model_path = './image_classification'\n",
    "\n",
    "print('Training...')\n",
    "with tf.Session() as sess:\n",
    "    # Initializing the variables\n",
    "    sess.run(tf.global_variables_initializer())\n",
    "    \n",
    "    # Training cycle\n",
    "    for epoch in range(epochs):\n",
    "        # Loop over all batches\n",
    "        n_batches = 5\n",
    "        for batch_i in range(1, n_batches + 1):\n",
    "            for batch_features, batch_labels in helper.load_preprocess_training_batch(batch_i, batch_size):\n",
    "                train_neural_network(sess, optimizer, keep_probability, batch_features, batch_labels)\n",
    "            print('Epoch {:>2}, CIFAR-10 Batch {}:  '.format(epoch + 1, batch_i), end='')\n",
    "            print_stats(sess, batch_features, batch_labels, cost, accuracy)\n",
    "            \n",
    "    # Save Model\n",
    "    saver = tf.train.Saver()\n",
    "    save_path = saver.save(sess, save_model_path)"
   ]
  },
  {
   "cell_type": "markdown",
   "metadata": {},
   "source": [
    "# Checkpoint\n",
    "The model has been saved to disk.\n",
    "## Test Model\n",
    "Test your model against the test dataset.  This will be your final accuracy. You should have an accuracy greater than 50%. If you don't, keep tweaking the model architecture and parameters."
   ]
  },
  {
   "cell_type": "code",
   "execution_count": 46,
   "metadata": {
    "collapsed": false
   },
   "outputs": [
    {
     "name": "stdout",
     "output_type": "stream",
     "text": [
      "INFO:tensorflow:Restoring parameters from ./image_classification\n",
      "Testing Accuracy: 0.6503647148609162\n",
      "\n"
     ]
    },
    {
     "data": {
      "image/png": "[encoded data removed]",
      "text/plain": [
       "<matplotlib.figure.Figure at 0x2482e7bbb00>"
      ]
     },
     "metadata": {
      "image/png": {
       "height": 319,
       "width": 355
      }
     },
     "output_type": "display_data"
    }
   ],
   "source": [
    "\"\"\"\n",
    "DON'T MODIFY ANYTHING IN THIS CELL\n",
    "\"\"\"\n",
    "%matplotlib inline\n",
    "%config InlineBackend.figure_format = 'retina'\n",
    "\n",
    "import tensorflow as tf\n",
    "import pickle\n",
    "import helper\n",
    "import random\n",
    "\n",
    "# Set batch size if not already set\n",
    "try:\n",
    "    if batch_size:\n",
    "        pass\n",
    "except NameError:\n",
    "    batch_size = 64\n",
    "\n",
    "save_model_path = './image_classification'\n",
    "n_samples = 4\n",
    "top_n_predictions = 3\n",
    "\n",
    "def test_model():\n",
    "    \"\"\"\n",
    "    Test the saved model against the test dataset\n",
    "    \"\"\"\n",
    "\n",
    "    test_features, test_labels = pickle.load(open('preprocess_training.p', mode='rb'))\n",
    "    loaded_graph = tf.Graph()\n",
    "\n",
    "    with tf.Session(graph=loaded_graph) as sess:\n",
    "        # Load model\n",
    "        loader = tf.train.import_meta_graph(save_model_path + '.meta')\n",
    "        loader.restore(sess, save_model_path)\n",
    "\n",
    "        # Get Tensors from loaded model\n",
    "        loaded_x = loaded_graph.get_tensor_by_name('x:0')\n",
    "        loaded_y = loaded_graph.get_tensor_by_name('y:0')\n",
    "        loaded_keep_prob = loaded_graph.get_tensor_by_name('keep_prob:0')\n",
    "        loaded_logits = loaded_graph.get_tensor_by_name('logits:0')\n",
    "        loaded_acc = loaded_graph.get_tensor_by_name('accuracy:0')\n",
    "        \n",
    "        # Get accuracy in batches for memory limitations\n",
    "        test_batch_acc_total = 0\n",
    "        test_batch_count = 0\n",
    "        \n",
    "        for train_feature_batch, train_label_batch in helper.batch_features_labels(test_features, test_labels, batch_size):\n",
    "            test_batch_acc_total += sess.run(\n",
    "                loaded_acc,\n",
    "                feed_dict={loaded_x: train_feature_batch, loaded_y: train_label_batch, loaded_keep_prob: 1.0})\n",
    "            test_batch_count += 1\n",
    "\n",
    "        print('Testing Accuracy: {}\\n'.format(test_batch_acc_total/test_batch_count))\n",
    "\n",
    "        # Print Random Samples\n",
    "        random_test_features, random_test_labels = tuple(zip(*random.sample(list(zip(test_features, test_labels)), n_samples)))\n",
    "        random_test_predictions = sess.run(\n",
    "            tf.nn.top_k(tf.nn.softmax(loaded_logits), top_n_predictions),\n",
    "            feed_dict={loaded_x: random_test_features, loaded_y: random_test_labels, loaded_keep_prob: 1.0})\n",
    "        helper.display_image_predictions(random_test_features, random_test_labels, random_test_predictions)\n",
    "\n",
    "\n",
    "test_model()"
   ]
  },
  {
   "cell_type": "markdown",
   "metadata": {},
   "source": [
    "## Why 50-80% Accuracy?\n",
    "You might be wondering why you can't get an accuracy any higher. First things first, 50% isn't bad for a simple CNN.  Pure guessing would get you 10% accuracy. That's because there are many more techniques that can be applied to your model and we recemmond that once you are done with this project, you explore!\n",
    "\n",
    "## Submitting This Project\n",
    "When submitting this project, make sure to run all the cells before saving the notebook.  Save the notebook file as \"image_classification.ipynb\" and save it as a HTML file under \"File\" -> \"Download as\".  Include the \"helper.py\" and \"problem_unittests.py\" files in your submission."
   ]
  }
 ],
 "metadata": {
  "kernelspec": {
   "display_name": "Python 2",
   "language": "python",
   "name": "python2"
  },
  "language_info": {
   "codemirror_mode": {
    "name": "ipython",
    "version": 2
   },
   "file_extension": ".py",
   "mimetype": "text/x-python",
   "name": "python",
   "nbconvert_exporter": "python",
   "pygments_lexer": "ipython2",
   "version": "2.7.13"
  }
 },
 "nbformat": 4,
 "nbformat_minor": 1
}
